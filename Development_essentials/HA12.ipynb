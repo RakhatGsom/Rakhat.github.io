{
 "cells": [
  {
   "cell_type": "code",
   "execution_count": 3,
   "id": "f867033d-3ba0-4b1b-8f63-5b55968975a6",
   "metadata": {},
   "outputs": [
    {
     "name": "stdout",
     "output_type": "stream",
     "text": [
      "32\n",
      "b'<!DOCTYPE html><html xmlns:umi=\"http://www.umi-cms.ru/TR/umi\" lang=\"en\">\\n<head>\\n<meta http-equiv=\"Content-Type\" content=\"text/html; charset=utf-8\">\\n<meta charset=\"utf-8\">\\n<meta name=\"viewport\" content=\"width=device-width, initial-scale=1, shrink-to-fit=no\">\\n<title>GSOM SPbU</title>\\n<link rel=\"shortcut icon\" href=\"/templates/gsom/img/favicon.png\n"
     ]
    }
   ],
   "source": [
    "import requests\n",
    "r=requests.get('https://gsom.spbu.ru/en/')\n",
    "s=str(r.content)\n",
    "print(s.count('.png'))\n",
    "\n",
    "a=s[:s.find('.png')+4]\n",
    "print(a)"
   ]
  },
  {
   "cell_type": "code",
   "execution_count": 4,
   "id": "008b08b0-ac23-423f-bee2-d0cd3aebe86c",
   "metadata": {},
   "outputs": [
    {
     "name": "stdout",
     "output_type": "stream",
     "text": [
      "/templates/gsom/img/favicon.png\n"
     ]
    }
   ],
   "source": [
    "a=a[a.rfind('href=\"')+6:]\n",
    "print(a)"
   ]
  },
  {
   "cell_type": "code",
   "execution_count": 5,
   "id": "9c0d83e2-5d8d-4492-bbd3-5862af5dbdf8",
   "metadata": {},
   "outputs": [
    {
     "name": "stdout",
     "output_type": "stream",
     "text": [
      "https://gsom.spbu.ru/en//templates/gsom/img/favicon.png\n"
     ]
    }
   ],
   "source": [
    "a='https://gsom.spbu.ru/en/'+a\n",
    "print(a)"
   ]
  },
  {
   "cell_type": "code",
   "execution_count": 19,
   "id": "6b7c4709-11ba-48c6-90f2-bdfbee253595",
   "metadata": {
    "tags": []
   },
   "outputs": [
    {
     "data": {
      "text/plain": [
       "28109"
      ]
     },
     "execution_count": 19,
     "metadata": {},
     "output_type": "execute_result"
    }
   ],
   "source": [
    "import requests\n",
    "r=requests.get(\"https://gsom.spbu.ru/templates/gsom/img/favicon.png\")\n",
    "file=open('/home/jovyan/gsom_img_favicon.png','wb')\n",
    "file.write(r.content)"
   ]
  },
  {
   "cell_type": "code",
   "execution_count": null,
   "id": "3460c079-88e7-456b-8963-4175fe6d4893",
   "metadata": {},
   "outputs": [],
   "source": []
  }
 ],
 "metadata": {
  "kernelspec": {
   "display_name": "Python 3 (ipykernel)",
   "language": "python",
   "name": "python3"
  },
  "language_info": {
   "codemirror_mode": {
    "name": "ipython",
    "version": 3
   },
   "file_extension": ".py",
   "mimetype": "text/x-python",
   "name": "python",
   "nbconvert_exporter": "python",
   "pygments_lexer": "ipython3",
   "version": "3.10.9"
  }
 },
 "nbformat": 4,
 "nbformat_minor": 5
}
