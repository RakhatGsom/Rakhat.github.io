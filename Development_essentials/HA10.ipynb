{
 "cells": [
  {
   "cell_type": "code",
   "execution_count": 1,
   "id": "3382ec58-4f7f-4911-896a-41b10dafd6a1",
   "metadata": {},
   "outputs": [
    {
     "name": "stdout",
     "output_type": "stream",
     "text": [
      "Marti zebra 1988\n",
      "Pumba pig 1975\n",
      "Shkiper penguin 1966\n",
      "Pumba is a pig\n"
     ]
    }
   ],
   "source": [
    "from datetime import datetime\n",
    "class Animal:\n",
    "    \"\"\"This class is about Animal\"\"\"\n",
    "    \n",
    "    def __init__(self,n,gen,year_of_b):\n",
    "        self.name=n\n",
    "        self.genus=gen\n",
    "        self.year_of_birth=year_of_b\n",
    "        \n",
    "    def get_info(self):\n",
    "        return (self.name+  \" is a \" +self.genus)\n",
    "    def get_age(self,year):\n",
    "        return (year-self.year_of_birth)\n",
    "\n",
    "my_animals=[]\n",
    "my_animals.append(Animal(\"Marti\",\"zebra\",1988))\n",
    "my_animals.append(Animal(\"Pumba\",\"pig\",1975))\n",
    "my_animals.append(Animal(\"Shkiper\",\"penguin\",1966))\n",
    "\n",
    "for i in my_animals:\n",
    "    print(i.name, i.genus, i.year_of_birth)\n",
    "\n",
    "my_animals[1].get_info() \n",
    "print(my_animals[1].get_info())"
   ]
  },
  {
   "cell_type": "code",
   "execution_count": 7,
   "id": "9b7da3b2-6cfc-4d05-97fc-8ab1a1376fc4",
   "metadata": {
    "tags": []
   },
   "outputs": [
    {
     "name": "stdout",
     "output_type": "stream",
     "text": [
      "Shkiper penguin 57\n"
     ]
    }
   ],
   "source": [
    "def find_oldest_animal(animal_list):\n",
    "    oldest_animal=animal_list[0]\n",
    "    max_age=animal_list[0].get_age(2023)\n",
    "    for animal in animal_list:\n",
    "        age=animal.get_age(2023)\n",
    "        if age > max_age:\n",
    "            max_age=age\n",
    "            oldest_animal=animal\n",
    "    return oldest_animal\n",
    "\n",
    "oldest=find_oldest_animal(my_animals)\n",
    "print(oldest.name, oldest.genus, oldest.get_age(2023))"
   ]
  },
  {
   "cell_type": "code",
   "execution_count": 10,
   "id": "b4f33567-c4f4-490d-b321-11fde92b265f",
   "metadata": {
    "tags": []
   },
   "outputs": [],
   "source": [
    "my_file=\"Animals_list.txt\"\n",
    "file=open(my_file,'w') \n",
    "for i in my_animals:\n",
    "    file.write(i.name+ \" \"+i.genus+\" \"+ str(i.get_age(2023))+ \"years\\n\")\n",
    "file.close()"
   ]
  },
  {
   "cell_type": "code",
   "execution_count": null,
   "id": "cfccce36-f9c1-4fc1-848a-e61c7fd69138",
   "metadata": {},
   "outputs": [],
   "source": []
  }
 ],
 "metadata": {
  "kernelspec": {
   "display_name": "Python 3 (ipykernel)",
   "language": "python",
   "name": "python3"
  },
  "language_info": {
   "codemirror_mode": {
    "name": "ipython",
    "version": 3
   },
   "file_extension": ".py",
   "mimetype": "text/x-python",
   "name": "python",
   "nbconvert_exporter": "python",
   "pygments_lexer": "ipython3",
   "version": "3.10.9"
  }
 },
 "nbformat": 4,
 "nbformat_minor": 5
}
