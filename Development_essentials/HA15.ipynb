{
 "cells": [
  {
   "cell_type": "code",
   "execution_count": 1,
   "id": "fe0e2e33-9552-4f91-bd47-f7a34f299474",
   "metadata": {},
   "outputs": [
    {
     "name": "stdout",
     "output_type": "stream",
     "text": [
      "Recommended lengths: [2, 6]\n"
     ]
    }
   ],
   "source": [
    "def cut_rod(n, prices):\n",
    "    # Create two lists for storing maximum values and recommended lengths\n",
    "    max_values = [0] * (n + 1)\n",
    "    recommended_lengths = [0] * (n + 1)\n",
    "\n",
    "    for i in range(1, n + 1):\n",
    "        max_value = -1\n",
    "        for j in range(i):\n",
    "            if prices[j] + max_values[i - j - 1] > max_value:\n",
    "                max_value = prices[j] + max_values[i - j - 1]\n",
    "                recommended_lengths[i] = j + 1\n",
    "        max_values[i] = max_value\n",
    "\n",
    "    # Now, let's find the recommended lengths\n",
    "    lengths = []\n",
    "    while n > 0:\n",
    "        lengths.append(recommended_lengths[n])\n",
    "        n -= recommended_lengths[n]\n",
    "\n",
    "    return lengths\n",
    "\n",
    "# Example usage\n",
    "rod_length = 8\n",
    "prices = [1, 5, 8, 9, 10, 17, 17, 20]\n",
    "recommended_lengths = cut_rod(rod_length, prices)\n",
    "print(\"Recommended lengths:\", recommended_lengths)"
   ]
  },
  {
   "cell_type": "code",
   "execution_count": 2,
   "id": "56e0858f-b4b9-405d-8862-397aa7833696",
   "metadata": {},
   "outputs": [
    {
     "name": "stdout",
     "output_type": "stream",
     "text": [
      "Maximum obtainable value: 22\n",
      "Recommended lengths: [2, 6]\n"
     ]
    }
   ],
   "source": [
    "def cut_rod(n, prices):\n",
    "    # Initialize two lists to store the maximum value and the recommended lengths for each length of the rod.\n",
    "    max_value = [0] * (n + 1)\n",
    "    recommended_lengths = [[] for _ in range(n + 1)]\n",
    "\n",
    "    for i in range(1, n + 1):\n",
    "        max_val = -1\n",
    "        for j in range(i):\n",
    "            if prices[j] + max_value[i - j - 1] > max_val:\n",
    "                max_val = prices[j] + max_value[i - j - 1]\n",
    "                recommended_lengths[i] = [j + 1] + recommended_lengths[i - j - 1]\n",
    "        max_value[i] = max_val\n",
    "\n",
    "    return max_value[n], recommended_lengths[n]\n",
    "\n",
    "# Example usage:\n",
    "rod_length = 8\n",
    "prices = [1, 5, 8, 9, 10, 17, 17, 20]\n",
    "max_val, recommended_lengths = cut_rod(rod_length, prices)\n",
    "print(\"Maximum obtainable value:\", max_val)\n",
    "print(\"Recommended lengths:\", recommended_lengths)"
   ]
  },
  {
   "cell_type": "code",
   "execution_count": 1,
   "id": "4dbe3e17-3d1a-4b0a-b2d6-97f2cc23b786",
   "metadata": {},
   "outputs": [
    {
     "name": "stdout",
     "output_type": "stream",
     "text": [
      "Maximum value: 22\n",
      "Recommended lengths: [2, 6]\n"
     ]
    }
   ],
   "source": [
    "def rod_cutting(length, prices):\n",
    "    n = len(prices)\n",
    "    dp = [0] * (length + 1)\n",
    "    cuts = [[] for _ in range(length + 1)]\n",
    "\n",
    "    for i in range(1, length + 1):\n",
    "        max_val = -1\n",
    "        for j in range(1, min(i, n) + 1):\n",
    "            if prices[j - 1] + dp[i - j] > max_val:\n",
    "                max_val = prices[j - 1] + dp[i - j]\n",
    "                cuts[i] = [j] + cuts[i - j]\n",
    "        dp[i] = max_val\n",
    "\n",
    "    return dp[length], cuts[length]\n",
    "\n",
    "# Example\n",
    "length = 8\n",
    "prices = [1, 5, 8, 9, 10, 17, 17, 20]\n",
    "max_value, recommended_lengths = rod_cutting(length, prices)\n",
    "\n",
    "print(\"Maximum value:\", max_value)\n",
    "print(\"Recommended lengths:\", recommended_lengths)"
   ]
  },
  {
   "cell_type": "code",
   "execution_count": 1,
   "id": "34bc9486-0160-4482-981a-28d8f1ceea80",
   "metadata": {},
   "outputs": [
    {
     "name": "stdout",
     "output_type": "stream",
     "text": [
      "Maximum value: 38\n",
      "Recommended lengths: [3, 6, 6]\n"
     ]
    }
   ],
   "source": [
    "def rod_cutting(length, prices):\n",
    "    n = len(prices)\n",
    "    dp = [0] * (length + 1)\n",
    "    cuts = [[] for _ in range(length + 1)]\n",
    "\n",
    "    for i in range(1, length + 1):\n",
    "        max_val = -1\n",
    "        for j in range(1, min(i, n) + 1):\n",
    "            if prices[j - 1] + dp[i - j] > max_val:\n",
    "                max_val = prices[j - 1] + dp[i - j]\n",
    "                cuts[i] = [j] + cuts[i - j]\n",
    "        dp[i] = max_val\n",
    "\n",
    "    return dp[length], cuts[length]\n",
    "\n",
    "# Example\n",
    "length = 15\n",
    "prices = [1, 4, 6, 9, 10, 16, 17, 20]\n",
    "max_value, recommended_lengths = rod_cutting(length, prices)\n",
    "\n",
    "print(\"Maximum value:\", max_value)\n",
    "print(\"Recommended lengths:\", recommended_lengths)"
   ]
  },
  {
   "cell_type": "code",
   "execution_count": null,
   "id": "ef787bd0-dbd1-4848-baf8-d096534aec97",
   "metadata": {},
   "outputs": [],
   "source": []
  }
 ],
 "metadata": {
  "kernelspec": {
   "display_name": "Python 3 (ipykernel)",
   "language": "python",
   "name": "python3"
  },
  "language_info": {
   "codemirror_mode": {
    "name": "ipython",
    "version": 3
   },
   "file_extension": ".py",
   "mimetype": "text/x-python",
   "name": "python",
   "nbconvert_exporter": "python",
   "pygments_lexer": "ipython3",
   "version": "3.10.9"
  }
 },
 "nbformat": 4,
 "nbformat_minor": 5
}
