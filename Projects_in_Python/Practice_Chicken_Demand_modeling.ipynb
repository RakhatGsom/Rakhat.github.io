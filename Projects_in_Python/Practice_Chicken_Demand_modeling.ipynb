{
 "cells": [
  {
   "cell_type": "markdown",
   "metadata": {},
   "source": [
    "# Practice 5-2. Demand function modeling"
   ]
  },
  {
   "cell_type": "code",
   "execution_count": 8,
   "metadata": {},
   "outputs": [],
   "source": [
    "# loading packages\n",
    "import numpy as np\n",
    "import pandas as pd\n",
    "import matplotlib.pyplot as plt\n",
    "import scipy.stats as stats\n",
    "\n",
    "# packages for statistical analysis \n",
    "import statsmodels.api as sm\n",
    "import statsmodels.tsa.api as smt\n",
    "import statsmodels.stats as stats_m\n",
    "\n",
    "from statsmodels.formula.api import ols\n",
    "from statsmodels.graphics.gofplots import qqplot\n",
    "from statsmodels.stats.outliers_influence import reset_ramsey"
   ]
  },
  {
   "cell_type": "code",
   "execution_count": 23,
   "metadata": {},
   "outputs": [],
   "source": [
    "def myTSplot(x, label=None):\n",
    "    dfChicken[x].plot()\n",
    "    plt.title('Plot of '+ label)\n",
    "    plt.xticks(range(23), dfChicken['year'], rotation='vertical')\n",
    "    plt.grid()\n",
    "    plt.show()"
   ]
  },
  {
   "cell_type": "markdown",
   "metadata": {},
   "source": [
    "##  CASE-STUDY: *Modeling demand function of a product*\n",
    "\n",
    "## 1. Getting and describing the data"
   ]
  },
  {
   "cell_type": "markdown",
   "metadata": {},
   "source": [
    "### 1.1. Import the data"
   ]
  },
  {
   "cell_type": "code",
   "execution_count": 24,
   "metadata": {},
   "outputs": [],
   "source": [
    "# read the data from MS Excel file\n",
    "dfChicken = pd.read_excel('chicken.xlsx', 'data', index_col=None, na_values=['NA'])"
   ]
  },
  {
   "cell_type": "code",
   "execution_count": 25,
   "metadata": {
    "scrolled": true
   },
   "outputs": [
    {
     "data": {
      "text/html": [
       "<div>\n",
       "<style scoped>\n",
       "    .dataframe tbody tr th:only-of-type {\n",
       "        vertical-align: middle;\n",
       "    }\n",
       "\n",
       "    .dataframe tbody tr th {\n",
       "        vertical-align: top;\n",
       "    }\n",
       "\n",
       "    .dataframe thead th {\n",
       "        text-align: right;\n",
       "    }\n",
       "</style>\n",
       "<table border=\"1\" class=\"dataframe\">\n",
       "  <thead>\n",
       "    <tr style=\"text-align: right;\">\n",
       "      <th></th>\n",
       "      <th>year</th>\n",
       "      <th>qc</th>\n",
       "      <th>pc</th>\n",
       "      <th>inc</th>\n",
       "      <th>pp</th>\n",
       "      <th>pb</th>\n",
       "    </tr>\n",
       "  </thead>\n",
       "  <tbody>\n",
       "    <tr>\n",
       "      <th>0</th>\n",
       "      <td>1960</td>\n",
       "      <td>27.8</td>\n",
       "      <td>42.2</td>\n",
       "      <td>397.5</td>\n",
       "      <td>50.7</td>\n",
       "      <td>78.3</td>\n",
       "    </tr>\n",
       "    <tr>\n",
       "      <th>1</th>\n",
       "      <td>1961</td>\n",
       "      <td>29.9</td>\n",
       "      <td>38.1</td>\n",
       "      <td>413.3</td>\n",
       "      <td>52.0</td>\n",
       "      <td>79.2</td>\n",
       "    </tr>\n",
       "    <tr>\n",
       "      <th>2</th>\n",
       "      <td>1962</td>\n",
       "      <td>29.8</td>\n",
       "      <td>40.3</td>\n",
       "      <td>439.2</td>\n",
       "      <td>54.0</td>\n",
       "      <td>79.2</td>\n",
       "    </tr>\n",
       "    <tr>\n",
       "      <th>3</th>\n",
       "      <td>1963</td>\n",
       "      <td>30.8</td>\n",
       "      <td>39.5</td>\n",
       "      <td>459.7</td>\n",
       "      <td>55.3</td>\n",
       "      <td>79.2</td>\n",
       "    </tr>\n",
       "    <tr>\n",
       "      <th>4</th>\n",
       "      <td>1964</td>\n",
       "      <td>31.2</td>\n",
       "      <td>37.3</td>\n",
       "      <td>492.9</td>\n",
       "      <td>54.7</td>\n",
       "      <td>77.4</td>\n",
       "    </tr>\n",
       "  </tbody>\n",
       "</table>\n",
       "</div>"
      ],
      "text/plain": [
       "   year    qc    pc    inc    pp    pb\n",
       "0  1960  27.8  42.2  397.5  50.7  78.3\n",
       "1  1961  29.9  38.1  413.3  52.0  79.2\n",
       "2  1962  29.8  40.3  439.2  54.0  79.2\n",
       "3  1963  30.8  39.5  459.7  55.3  79.2\n",
       "4  1964  31.2  37.3  492.9  54.7  77.4"
      ]
     },
     "execution_count": 25,
     "metadata": {},
     "output_type": "execute_result"
    }
   ],
   "source": [
    "# look at the head of the data frame\n",
    "dfChicken.head(n=5)"
   ]
  },
  {
   "cell_type": "markdown",
   "metadata": {},
   "source": [
    "### 1.2. Descriptive analysis"
   ]
  },
  {
   "cell_type": "code",
   "execution_count": 26,
   "metadata": {
    "scrolled": true
   },
   "outputs": [
    {
     "data": {
      "text/html": [
       "<div>\n",
       "<style scoped>\n",
       "    .dataframe tbody tr th:only-of-type {\n",
       "        vertical-align: middle;\n",
       "    }\n",
       "\n",
       "    .dataframe tbody tr th {\n",
       "        vertical-align: top;\n",
       "    }\n",
       "\n",
       "    .dataframe thead th {\n",
       "        text-align: right;\n",
       "    }\n",
       "</style>\n",
       "<table border=\"1\" class=\"dataframe\">\n",
       "  <thead>\n",
       "    <tr style=\"text-align: right;\">\n",
       "      <th></th>\n",
       "      <th>year</th>\n",
       "      <th>qc</th>\n",
       "      <th>pc</th>\n",
       "      <th>inc</th>\n",
       "      <th>pp</th>\n",
       "      <th>pb</th>\n",
       "    </tr>\n",
       "  </thead>\n",
       "  <tbody>\n",
       "    <tr>\n",
       "      <th>count</th>\n",
       "      <td>23.00</td>\n",
       "      <td>23.00</td>\n",
       "      <td>23.00</td>\n",
       "      <td>23.00</td>\n",
       "      <td>23.00</td>\n",
       "      <td>23.00</td>\n",
       "    </tr>\n",
       "    <tr>\n",
       "      <th>mean</th>\n",
       "      <td>1971.00</td>\n",
       "      <td>39.67</td>\n",
       "      <td>48.00</td>\n",
       "      <td>1035.07</td>\n",
       "      <td>90.40</td>\n",
       "      <td>124.43</td>\n",
       "    </tr>\n",
       "    <tr>\n",
       "      <th>std</th>\n",
       "      <td>6.78</td>\n",
       "      <td>7.37</td>\n",
       "      <td>11.12</td>\n",
       "      <td>617.85</td>\n",
       "      <td>35.22</td>\n",
       "      <td>51.50</td>\n",
       "    </tr>\n",
       "    <tr>\n",
       "      <th>min</th>\n",
       "      <td>1960.00</td>\n",
       "      <td>27.80</td>\n",
       "      <td>37.30</td>\n",
       "      <td>397.50</td>\n",
       "      <td>50.70</td>\n",
       "      <td>77.40</td>\n",
       "    </tr>\n",
       "    <tr>\n",
       "      <th>25%</th>\n",
       "      <td>1965.50</td>\n",
       "      <td>34.45</td>\n",
       "      <td>38.95</td>\n",
       "      <td>544.45</td>\n",
       "      <td>64.10</td>\n",
       "      <td>80.30</td>\n",
       "    </tr>\n",
       "    <tr>\n",
       "      <th>50%</th>\n",
       "      <td>1971.00</td>\n",
       "      <td>40.30</td>\n",
       "      <td>40.30</td>\n",
       "      <td>843.30</td>\n",
       "      <td>73.20</td>\n",
       "      <td>106.10</td>\n",
       "    </tr>\n",
       "    <tr>\n",
       "      <th>75%</th>\n",
       "      <td>1976.50</td>\n",
       "      <td>43.40</td>\n",
       "      <td>58.10</td>\n",
       "      <td>1399.50</td>\n",
       "      <td>125.75</td>\n",
       "      <td>143.25</td>\n",
       "    </tr>\n",
       "    <tr>\n",
       "      <th>max</th>\n",
       "      <td>1982.00</td>\n",
       "      <td>52.90</td>\n",
       "      <td>70.40</td>\n",
       "      <td>2478.70</td>\n",
       "      <td>168.20</td>\n",
       "      <td>232.60</td>\n",
       "    </tr>\n",
       "  </tbody>\n",
       "</table>\n",
       "</div>"
      ],
      "text/plain": [
       "          year     qc     pc      inc      pp      pb\n",
       "count    23.00  23.00  23.00    23.00   23.00   23.00\n",
       "mean   1971.00  39.67  48.00  1035.07   90.40  124.43\n",
       "std       6.78   7.37  11.12   617.85   35.22   51.50\n",
       "min    1960.00  27.80  37.30   397.50   50.70   77.40\n",
       "25%    1965.50  34.45  38.95   544.45   64.10   80.30\n",
       "50%    1971.00  40.30  40.30   843.30   73.20  106.10\n",
       "75%    1976.50  43.40  58.10  1399.50  125.75  143.25\n",
       "max    1982.00  52.90  70.40  2478.70  168.20  232.60"
      ]
     },
     "execution_count": 26,
     "metadata": {},
     "output_type": "execute_result"
    }
   ],
   "source": [
    "# calculate basic descriptive statistics\n",
    "dfChicken.describe().round(2)"
   ]
  },
  {
   "cell_type": "markdown",
   "metadata": {},
   "source": [
    "### 1.3. Graphical analysis: individual time-series graphs"
   ]
  },
  {
   "cell_type": "code",
   "execution_count": 27,
   "metadata": {},
   "outputs": [
    {
     "data": {
      "image/png": "[encoded data removed]",
      "text/plain": [
       "<Figure size 640x480 with 1 Axes>"
      ]
     },
     "metadata": {},
     "output_type": "display_data"
    }
   ],
   "source": [
    "# Plot of Chicken Consumption\n",
    "myTSplot('qc', 'Chicken Consumption')"
   ]
  },
  {
   "cell_type": "code",
   "execution_count": 28,
   "metadata": {},
   "outputs": [
    {
     "data": {
      "image/png": "[encoded data removed]",
      "text/plain": [
       "<Figure size 640x480 with 1 Axes>"
      ]
     },
     "metadata": {},
     "output_type": "display_data"
    }
   ],
   "source": [
    "# Plot of Price of Chicken\n",
    "myTSplot('pc', 'Price of Chicken')"
   ]
  },
  {
   "cell_type": "code",
   "execution_count": 29,
   "metadata": {},
   "outputs": [
    {
     "data": {
      "image/png": "[encoded data removed]",
      "text/plain": [
       "<Figure size 640x480 with 1 Axes>"
      ]
     },
     "metadata": {},
     "output_type": "display_data"
    }
   ],
   "source": [
    "# Plot of Real Incomes\n",
    "myTSplot('inc', 'Real Incomes')"
   ]
  },
  {
   "cell_type": "code",
   "execution_count": 30,
   "metadata": {},
   "outputs": [
    {
     "data": {
      "image/png": "[encoded data removed]",
      "text/plain": [
       "<Figure size 640x480 with 1 Axes>"
      ]
     },
     "metadata": {},
     "output_type": "display_data"
    }
   ],
   "source": [
    "# Plot of Price of Pork\n",
    "myTSplot('pp', 'Price of Pork')"
   ]
  },
  {
   "cell_type": "code",
   "execution_count": 31,
   "metadata": {},
   "outputs": [
    {
     "data": {
      "image/png": "[encoded data removed]",
      "text/plain": [
       "<Figure size 640x480 with 1 Axes>"
      ]
     },
     "metadata": {},
     "output_type": "display_data"
    }
   ],
   "source": [
    "# Plot of Price of Beef\n",
    "myTSplot('pb', 'Price of Beef')"
   ]
  },
  {
   "cell_type": "markdown",
   "metadata": {},
   "source": [
    "## 2. Running a simple pair-wise analysis"
   ]
  },
  {
   "cell_type": "code",
   "execution_count": 32,
   "metadata": {},
   "outputs": [],
   "source": [
    "# extract Qc and Pc\n",
    "qc = dfChicken['qc']\n",
    "pc = dfChicken['pc']"
   ]
  },
  {
   "cell_type": "code",
   "execution_count": 34,
   "metadata": {},
   "outputs": [
    {
     "data": {
      "image/png": "[encoded data removed]",
      "text/plain": [
       "<Figure size 640x480 with 1 Axes>"
      ]
     },
     "metadata": {},
     "output_type": "display_data"
    }
   ],
   "source": [
    "# scatter plot\n",
    "plt.scatter(qc, pc)\n",
    "plt.xlabel(\"Consumption of chicken\")\n",
    "plt.ylabel(\"Price of chicken\")\n",
    "plt.title(\"The Naive Chicken Demand Function\")\n",
    "plt.grid()\n",
    "\n",
    "#regression part\n",
    "slopeY, interceptY, _, _, _ = stats.linregress(qc,pc)\n",
    "lineY = slopeY*qc+interceptY\n",
    "plt.plot(qc, lineY, 'r', label='Pc = {:.2f} + {:.2f}*Qc'.format(interceptY, slopeY))\n",
    "#end\n",
    "\n",
    "plt.legend()\n",
    "plt.show()"
   ]
  },
  {
   "cell_type": "code",
   "execution_count": 35,
   "metadata": {},
   "outputs": [
    {
     "name": "stdout",
     "output_type": "stream",
     "text": [
      "Pearson's correlation =  0.84\n",
      "Pearson's p-value =  0.0\n"
     ]
    }
   ],
   "source": [
    "# run a pair-wise correlation analysis\n",
    "coefPears, pvPears= stats.pearsonr(qc, pc)\n",
    "\n",
    "print(\"Pearson's correlation = \", round(coefPears,3))\n",
    "print(\"Pearson's p-value = \", round(pvPears,3))"
   ]
  },
  {
   "cell_type": "markdown",
   "metadata": {},
   "source": [
    "## 3. Linear regression analysis"
   ]
  },
  {
   "cell_type": "markdown",
   "metadata": {},
   "source": [
    "### 3.1. MODEL 1: Multivariate linear regression"
   ]
  },
  {
   "cell_type": "code",
   "execution_count": 36,
   "metadata": {},
   "outputs": [
    {
     "data": {
      "text/html": [
       "<table class=\"simpletable\">\n",
       "<caption>OLS Regression Results</caption>\n",
       "<tr>\n",
       "  <th>Dep. Variable:</th>           <td>qc</td>        <th>  R-squared:         </th> <td>   0.943</td>\n",
       "</tr>\n",
       "<tr>\n",
       "  <th>Model:</th>                   <td>OLS</td>       <th>  Adj. R-squared:    </th> <td>   0.930</td>\n",
       "</tr>\n",
       "<tr>\n",
       "  <th>Method:</th>             <td>Least Squares</td>  <th>  F-statistic:       </th> <td>   73.87</td>\n",
       "</tr>\n",
       "<tr>\n",
       "  <th>Date:</th>             <td>Thu, 01 Feb 2024</td> <th>  Prob (F-statistic):</th> <td>6.43e-11</td>\n",
       "</tr>\n",
       "<tr>\n",
       "  <th>Time:</th>                 <td>10:39:59</td>     <th>  Log-Likelihood:    </th> <td> -45.214</td>\n",
       "</tr>\n",
       "<tr>\n",
       "  <th>No. Observations:</th>      <td>    23</td>      <th>  AIC:               </th> <td>   100.4</td>\n",
       "</tr>\n",
       "<tr>\n",
       "  <th>Df Residuals:</th>          <td>    18</td>      <th>  BIC:               </th> <td>   106.1</td>\n",
       "</tr>\n",
       "<tr>\n",
       "  <th>Df Model:</th>              <td>     4</td>      <th>                     </th>     <td> </td>   \n",
       "</tr>\n",
       "<tr>\n",
       "  <th>Covariance Type:</th>      <td>nonrobust</td>    <th>                     </th>     <td> </td>   \n",
       "</tr>\n",
       "</table>\n",
       "<table class=\"simpletable\">\n",
       "<tr>\n",
       "      <td></td>         <th>coef</th>     <th>std err</th>      <th>t</th>      <th>P>|t|</th>  <th>[0.025</th>    <th>0.975]</th>  \n",
       "</tr>\n",
       "<tr>\n",
       "  <th>Intercept</th> <td>   37.2324</td> <td>    3.718</td> <td>   10.015</td> <td> 0.000</td> <td>   29.422</td> <td>   45.043</td>\n",
       "</tr>\n",
       "<tr>\n",
       "  <th>pc</th>        <td>   -0.6112</td> <td>    0.163</td> <td>   -3.753</td> <td> 0.001</td> <td>   -0.953</td> <td>   -0.269</td>\n",
       "</tr>\n",
       "<tr>\n",
       "  <th>inc</th>       <td>    0.0050</td> <td>    0.005</td> <td>    1.024</td> <td> 0.319</td> <td>   -0.005</td> <td>    0.015</td>\n",
       "</tr>\n",
       "<tr>\n",
       "  <th>pp</th>        <td>    0.1984</td> <td>    0.064</td> <td>    3.114</td> <td> 0.006</td> <td>    0.065</td> <td>    0.332</td>\n",
       "</tr>\n",
       "<tr>\n",
       "  <th>pb</th>        <td>    0.0695</td> <td>    0.051</td> <td>    1.363</td> <td> 0.190</td> <td>   -0.038</td> <td>    0.177</td>\n",
       "</tr>\n",
       "</table>\n",
       "<table class=\"simpletable\">\n",
       "<tr>\n",
       "  <th>Omnibus:</th>       <td> 2.004</td> <th>  Durbin-Watson:     </th> <td>   1.065</td>\n",
       "</tr>\n",
       "<tr>\n",
       "  <th>Prob(Omnibus):</th> <td> 0.367</td> <th>  Jarque-Bera (JB):  </th> <td>   1.088</td>\n",
       "</tr>\n",
       "<tr>\n",
       "  <th>Skew:</th>          <td> 0.098</td> <th>  Prob(JB):          </th> <td>   0.580</td>\n",
       "</tr>\n",
       "<tr>\n",
       "  <th>Kurtosis:</th>      <td> 1.953</td> <th>  Cond. No.          </th> <td>1.11e+04</td>\n",
       "</tr>\n",
       "</table><br/><br/>Notes:<br/>[1] Standard Errors assume that the covariance matrix of the errors is correctly specified.<br/>[2] The condition number is large, 1.11e+04. This might indicate that there are<br/>strong multicollinearity or other numerical problems."
      ],
      "text/plain": [
       "<class 'statsmodels.iolib.summary.Summary'>\n",
       "\"\"\"\n",
       "                            OLS Regression Results                            \n",
       "==============================================================================\n",
       "Dep. Variable:                     qc   R-squared:                       0.943\n",
       "Model:                            OLS   Adj. R-squared:                  0.930\n",
       "Method:                 Least Squares   F-statistic:                     73.87\n",
       "Date:                Thu, 01 Feb 2024   Prob (F-statistic):           6.43e-11\n",
       "Time:                        10:39:59   Log-Likelihood:                -45.214\n",
       "No. Observations:                  23   AIC:                             100.4\n",
       "Df Residuals:                      18   BIC:                             106.1\n",
       "Df Model:                           4                                         \n",
       "Covariance Type:            nonrobust                                         \n",
       "==============================================================================\n",
       "                 coef    std err          t      P>|t|      [0.025      0.975]\n",
       "------------------------------------------------------------------------------\n",
       "Intercept     37.2324      3.718     10.015      0.000      29.422      45.043\n",
       "pc            -0.6112      0.163     -3.753      0.001      -0.953      -0.269\n",
       "inc            0.0050      0.005      1.024      0.319      -0.005       0.015\n",
       "pp             0.1984      0.064      3.114      0.006       0.065       0.332\n",
       "pb             0.0695      0.051      1.363      0.190      -0.038       0.177\n",
       "==============================================================================\n",
       "Omnibus:                        2.004   Durbin-Watson:                   1.065\n",
       "Prob(Omnibus):                  0.367   Jarque-Bera (JB):                1.088\n",
       "Skew:                           0.098   Prob(JB):                        0.580\n",
       "Kurtosis:                       1.953   Cond. No.                     1.11e+04\n",
       "==============================================================================\n",
       "\n",
       "Notes:\n",
       "[1] Standard Errors assume that the covariance matrix of the errors is correctly specified.\n",
       "[2] The condition number is large, 1.11e+04. This might indicate that there are\n",
       "strong multicollinearity or other numerical problems.\n",
       "\"\"\""
      ]
     },
     "execution_count": 36,
     "metadata": {},
     "output_type": "execute_result"
    }
   ],
   "source": [
    "# estimate Model 1\n",
    "model1 = ols('qc ~ pc + inc + pp + pb', dfChicken).fit()\n",
    "model1.summary()"
   ]
  },
  {
   "cell_type": "markdown",
   "metadata": {},
   "source": [
    "### 3.2. Tests of disturbances of Model 1"
   ]
  },
  {
   "cell_type": "code",
   "execution_count": 37,
   "metadata": {},
   "outputs": [],
   "source": [
    "# store model residuals\n",
    "resids1 = model1.resid"
   ]
  },
  {
   "cell_type": "code",
   "execution_count": 38,
   "metadata": {
    "scrolled": true
   },
   "outputs": [
    {
     "data": {
      "image/png": "[encoded data removed]",
      "text/plain": [
       "<Figure size 640x480 with 1 Axes>"
      ]
     },
     "metadata": {},
     "output_type": "display_data"
    }
   ],
   "source": [
    "# Visual Normality Test\n",
    "qqplot(resids1, line='s');\n",
    "\n",
    "# Jarque-Bera test results are in the summary of Model 1"
   ]
  },
  {
   "cell_type": "code",
   "execution_count": 39,
   "metadata": {},
   "outputs": [
    {
     "name": "stdout",
     "output_type": "stream",
     "text": [
      "\n",
      " --- The Breusch-Pagan test ---\n",
      "                         value\n",
      "chi^2 test statistic  6.428253\n",
      "chi^2 test p-value    0.169368\n",
      "F-test statistic      1.745570\n",
      "F-test p-value        0.183967\n"
     ]
    }
   ],
   "source": [
    "# The Breusch-Pagan heteroskedasticity test\n",
    "BPtest = pd.DataFrame(stats_m.diagnostic.het_breuschpagan(resids1, model1.model.exog), columns=['value'], \n",
    "                       index=['chi^2 test statistic', 'chi^2 test p-value', 'F-test statistic', 'F-test p-value'])\n",
    "\n",
    "print('\\n --- The Breusch-Pagan test ---')\n",
    "print(BPtest)"
   ]
  },
  {
   "cell_type": "code",
   "execution_count": 40,
   "metadata": {},
   "outputs": [
    {
     "data": {
      "image/png": "[encoded data removed]",
      "text/plain": [
       "<Figure size 640x480 with 1 Axes>"
      ]
     },
     "metadata": {},
     "output_type": "display_data"
    }
   ],
   "source": [
    "# Graphical Autocorrelation Test\n",
    "acf = smt.graphics.plot_acf(resids1, lags=20, alpha=0.05)\n",
    "acf.show()"
   ]
  },
  {
   "cell_type": "code",
   "execution_count": 41,
   "metadata": {},
   "outputs": [
    {
     "name": "stdout",
     "output_type": "stream",
     "text": [
      "\n",
      " --- The Breusch-Godfrey test ---\n",
      "                         value\n",
      "chi^2 test statistic  7.694995\n",
      "chi^2 test p-value    0.005537\n",
      "F-test statistic      8.547198\n",
      "F-test p-value        0.009477\n"
     ]
    }
   ],
   "source": [
    "# The Breusch-Godfrey autocorrelation test\n",
    "BGtest = pd.DataFrame(stats_m.diagnostic.acorr_breusch_godfrey(model1, nlags=1), columns=['value'], \n",
    "                       index=['chi^2 test statistic', 'chi^2 test p-value', 'F-test statistic', 'F-test p-value'])\n",
    "\n",
    "print('\\n --- The Breusch-Godfrey test ---')\n",
    "print(BGtest)"
   ]
  },
  {
   "cell_type": "markdown",
   "metadata": {},
   "source": [
    "### 3.3. Tests of the specification of Model 1"
   ]
  },
  {
   "cell_type": "code",
   "execution_count": 42,
   "metadata": {},
   "outputs": [],
   "source": [
    "# discuss the goodness-of-fit of the model"
   ]
  },
  {
   "cell_type": "code",
   "execution_count": 43,
   "metadata": {},
   "outputs": [
    {
     "name": "stdout",
     "output_type": "stream",
     "text": [
      "<F test: F=19.806189707014408, p=4.694485962213142e-05, df_denom=16, df_num=2>\n"
     ]
    }
   ],
   "source": [
    "# The RESET test\n",
    "reset1 = reset_ramsey(model1, degree=3)\n",
    "print(reset1)"
   ]
  },
  {
   "cell_type": "code",
   "execution_count": 44,
   "metadata": {},
   "outputs": [
    {
     "data": {
      "text/html": [
       "<div>\n",
       "<style scoped>\n",
       "    .dataframe tbody tr th:only-of-type {\n",
       "        vertical-align: middle;\n",
       "    }\n",
       "\n",
       "    .dataframe tbody tr th {\n",
       "        vertical-align: top;\n",
       "    }\n",
       "\n",
       "    .dataframe thead th {\n",
       "        text-align: right;\n",
       "    }\n",
       "</style>\n",
       "<table border=\"1\" class=\"dataframe\">\n",
       "  <thead>\n",
       "    <tr style=\"text-align: right;\">\n",
       "      <th></th>\n",
       "      <th>year</th>\n",
       "      <th>qc</th>\n",
       "      <th>pc</th>\n",
       "      <th>inc</th>\n",
       "      <th>pp</th>\n",
       "      <th>pb</th>\n",
       "    </tr>\n",
       "  </thead>\n",
       "  <tbody>\n",
       "    <tr>\n",
       "      <th>0</th>\n",
       "      <td>1960</td>\n",
       "      <td>27.8</td>\n",
       "      <td>42.2</td>\n",
       "      <td>397.5</td>\n",
       "      <td>50.7</td>\n",
       "      <td>78.3</td>\n",
       "    </tr>\n",
       "    <tr>\n",
       "      <th>1</th>\n",
       "      <td>1961</td>\n",
       "      <td>29.9</td>\n",
       "      <td>38.1</td>\n",
       "      <td>413.3</td>\n",
       "      <td>52.0</td>\n",
       "      <td>79.2</td>\n",
       "    </tr>\n",
       "    <tr>\n",
       "      <th>2</th>\n",
       "      <td>1962</td>\n",
       "      <td>29.8</td>\n",
       "      <td>40.3</td>\n",
       "      <td>439.2</td>\n",
       "      <td>54.0</td>\n",
       "      <td>79.2</td>\n",
       "    </tr>\n",
       "    <tr>\n",
       "      <th>3</th>\n",
       "      <td>1963</td>\n",
       "      <td>30.8</td>\n",
       "      <td>39.5</td>\n",
       "      <td>459.7</td>\n",
       "      <td>55.3</td>\n",
       "      <td>79.2</td>\n",
       "    </tr>\n",
       "    <tr>\n",
       "      <th>4</th>\n",
       "      <td>1964</td>\n",
       "      <td>31.2</td>\n",
       "      <td>37.3</td>\n",
       "      <td>492.9</td>\n",
       "      <td>54.7</td>\n",
       "      <td>77.4</td>\n",
       "    </tr>\n",
       "  </tbody>\n",
       "</table>\n",
       "</div>"
      ],
      "text/plain": [
       "   year    qc    pc    inc    pp    pb\n",
       "0  1960  27.8  42.2  397.5  50.7  78.3\n",
       "1  1961  29.9  38.1  413.3  52.0  79.2\n",
       "2  1962  29.8  40.3  439.2  54.0  79.2\n",
       "3  1963  30.8  39.5  459.7  55.3  79.2\n",
       "4  1964  31.2  37.3  492.9  54.7  77.4"
      ]
     },
     "execution_count": 44,
     "metadata": {},
     "output_type": "execute_result"
    }
   ],
   "source": [
    "dfChicken.head(5)"
   ]
  },
  {
   "cell_type": "code",
   "execution_count": 45,
   "metadata": {},
   "outputs": [
    {
     "data": {
      "text/html": [
       "<div>\n",
       "<style scoped>\n",
       "    .dataframe tbody tr th:only-of-type {\n",
       "        vertical-align: middle;\n",
       "    }\n",
       "\n",
       "    .dataframe tbody tr th {\n",
       "        vertical-align: top;\n",
       "    }\n",
       "\n",
       "    .dataframe thead th {\n",
       "        text-align: right;\n",
       "    }\n",
       "</style>\n",
       "<table border=\"1\" class=\"dataframe\">\n",
       "  <thead>\n",
       "    <tr style=\"text-align: right;\">\n",
       "      <th></th>\n",
       "      <th>regressor</th>\n",
       "      <th>VIF</th>\n",
       "    </tr>\n",
       "  </thead>\n",
       "  <tbody>\n",
       "    <tr>\n",
       "      <th>0</th>\n",
       "      <td>pc</td>\n",
       "      <td>18.90</td>\n",
       "    </tr>\n",
       "    <tr>\n",
       "      <th>1</th>\n",
       "      <td>inc</td>\n",
       "      <td>52.70</td>\n",
       "    </tr>\n",
       "    <tr>\n",
       "      <th>2</th>\n",
       "      <td>pp</td>\n",
       "      <td>29.05</td>\n",
       "    </tr>\n",
       "    <tr>\n",
       "      <th>3</th>\n",
       "      <td>pb</td>\n",
       "      <td>39.76</td>\n",
       "    </tr>\n",
       "  </tbody>\n",
       "</table>\n",
       "</div>"
      ],
      "text/plain": [
       "  regressor    VIF\n",
       "0        pc  18.90\n",
       "1       inc  52.70\n",
       "2        pp  29.05\n",
       "3        pb  39.76"
      ]
     },
     "execution_count": 45,
     "metadata": {},
     "output_type": "execute_result"
    }
   ],
   "source": [
    "# Multicollinearity Test\n",
    "dfXX = dfChicken.drop(['year', 'qc'], axis=1)\n",
    "\n",
    "dfVIFs = pd.DataFrame()\n",
    "dfVIFs['regressor'] = dfXX.columns\n",
    "dfVIFs['VIF'] = np.linalg.inv(dfXX.corr().to_numpy()).diagonal().round(2)\n",
    "dfVIFs"
   ]
  },
  {
   "cell_type": "code",
   "execution_count": 46,
   "metadata": {
    "scrolled": true
   },
   "outputs": [
    {
     "data": {
      "text/html": [
       "<div>\n",
       "<style scoped>\n",
       "    .dataframe tbody tr th:only-of-type {\n",
       "        vertical-align: middle;\n",
       "    }\n",
       "\n",
       "    .dataframe tbody tr th {\n",
       "        vertical-align: top;\n",
       "    }\n",
       "\n",
       "    .dataframe thead th {\n",
       "        text-align: right;\n",
       "    }\n",
       "</style>\n",
       "<table border=\"1\" class=\"dataframe\">\n",
       "  <thead>\n",
       "    <tr style=\"text-align: right;\">\n",
       "      <th></th>\n",
       "      <th>year</th>\n",
       "      <th>qc</th>\n",
       "      <th>pc</th>\n",
       "      <th>inc</th>\n",
       "      <th>pp</th>\n",
       "      <th>pb</th>\n",
       "    </tr>\n",
       "  </thead>\n",
       "  <tbody>\n",
       "    <tr>\n",
       "      <th>year</th>\n",
       "      <td>1.000</td>\n",
       "      <td>0.978</td>\n",
       "      <td>0.883</td>\n",
       "      <td>0.939</td>\n",
       "      <td>0.947</td>\n",
       "      <td>0.923</td>\n",
       "    </tr>\n",
       "    <tr>\n",
       "      <th>qc</th>\n",
       "      <td>0.978</td>\n",
       "      <td>1.000</td>\n",
       "      <td>0.840</td>\n",
       "      <td>0.947</td>\n",
       "      <td>0.912</td>\n",
       "      <td>0.935</td>\n",
       "    </tr>\n",
       "    <tr>\n",
       "      <th>pc</th>\n",
       "      <td>0.883</td>\n",
       "      <td>0.840</td>\n",
       "      <td>1.000</td>\n",
       "      <td>0.932</td>\n",
       "      <td>0.970</td>\n",
       "      <td>0.928</td>\n",
       "    </tr>\n",
       "    <tr>\n",
       "      <th>inc</th>\n",
       "      <td>0.939</td>\n",
       "      <td>0.947</td>\n",
       "      <td>0.932</td>\n",
       "      <td>1.000</td>\n",
       "      <td>0.957</td>\n",
       "      <td>0.986</td>\n",
       "    </tr>\n",
       "    <tr>\n",
       "      <th>pp</th>\n",
       "      <td>0.947</td>\n",
       "      <td>0.912</td>\n",
       "      <td>0.970</td>\n",
       "      <td>0.957</td>\n",
       "      <td>1.000</td>\n",
       "      <td>0.941</td>\n",
       "    </tr>\n",
       "    <tr>\n",
       "      <th>pb</th>\n",
       "      <td>0.923</td>\n",
       "      <td>0.935</td>\n",
       "      <td>0.928</td>\n",
       "      <td>0.986</td>\n",
       "      <td>0.941</td>\n",
       "      <td>1.000</td>\n",
       "    </tr>\n",
       "  </tbody>\n",
       "</table>\n",
       "</div>"
      ],
      "text/plain": [
       "       year     qc     pc    inc     pp     pb\n",
       "year  1.000  0.978  0.883  0.939  0.947  0.923\n",
       "qc    0.978  1.000  0.840  0.947  0.912  0.935\n",
       "pc    0.883  0.840  1.000  0.932  0.970  0.928\n",
       "inc   0.939  0.947  0.932  1.000  0.957  0.986\n",
       "pp    0.947  0.912  0.970  0.957  1.000  0.941\n",
       "pb    0.923  0.935  0.928  0.986  0.941  1.000"
      ]
     },
     "execution_count": 46,
     "metadata": {},
     "output_type": "execute_result"
    }
   ],
   "source": [
    "# Correlation analysis\n",
    "dfChicken.corr().round(3)"
   ]
  },
  {
   "cell_type": "markdown",
   "metadata": {},
   "source": [
    "### 3.4. Tests of the coefficients of Model 1"
   ]
  },
  {
   "cell_type": "code",
   "execution_count": 47,
   "metadata": {
    "scrolled": true
   },
   "outputs": [
    {
     "name": "stdout",
     "output_type": "stream",
     "text": [
      "<F test: F=11.830871948234954, p=0.0005245846058757878, df_denom=18, df_num=2>\n"
     ]
    }
   ],
   "source": [
    "# linear hypotheses test\n",
    "linHypothesis1 = '(inc = pb), (pb = 0)'\n",
    "print(model1.f_test(linHypothesis1))"
   ]
  },
  {
   "cell_type": "code",
   "execution_count": 48,
   "metadata": {},
   "outputs": [],
   "source": [
    "# Discuss the summary of Model 1:\n",
    "# * signs and significance of the coefficients\n",
    "# * overall significance of the model"
   ]
  },
  {
   "cell_type": "markdown",
   "metadata": {},
   "source": [
    "## 4. Log-log regression analysis"
   ]
  },
  {
   "cell_type": "code",
   "execution_count": 49,
   "metadata": {},
   "outputs": [],
   "source": [
    "# generate new regressors\n",
    "dfChicken['logqc'] = np.log(dfChicken['qc'])\n",
    "dfChicken['logpc'] = np.log(dfChicken['pc'])\n",
    "dfChicken['loginc'] = np.log(dfChicken['inc'])\n",
    "dfChicken['logpp'] = np.log(dfChicken['pp'])\n",
    "dfChicken['logpb'] = np.log(dfChicken['pb'])"
   ]
  },
  {
   "cell_type": "code",
   "execution_count": 50,
   "metadata": {},
   "outputs": [
    {
     "data": {
      "text/html": [
       "<div>\n",
       "<style scoped>\n",
       "    .dataframe tbody tr th:only-of-type {\n",
       "        vertical-align: middle;\n",
       "    }\n",
       "\n",
       "    .dataframe tbody tr th {\n",
       "        vertical-align: top;\n",
       "    }\n",
       "\n",
       "    .dataframe thead th {\n",
       "        text-align: right;\n",
       "    }\n",
       "</style>\n",
       "<table border=\"1\" class=\"dataframe\">\n",
       "  <thead>\n",
       "    <tr style=\"text-align: right;\">\n",
       "      <th></th>\n",
       "      <th>year</th>\n",
       "      <th>qc</th>\n",
       "      <th>pc</th>\n",
       "      <th>inc</th>\n",
       "      <th>pp</th>\n",
       "      <th>pb</th>\n",
       "      <th>logqc</th>\n",
       "      <th>logpc</th>\n",
       "      <th>loginc</th>\n",
       "      <th>logpp</th>\n",
       "      <th>logpb</th>\n",
       "    </tr>\n",
       "  </thead>\n",
       "  <tbody>\n",
       "    <tr>\n",
       "      <th>18</th>\n",
       "      <td>1978</td>\n",
       "      <td>46.7</td>\n",
       "      <td>63.7</td>\n",
       "      <td>1575.5</td>\n",
       "      <td>130.9</td>\n",
       "      <td>165.5</td>\n",
       "      <td>3.84</td>\n",
       "      <td>4.15</td>\n",
       "      <td>7.36</td>\n",
       "      <td>4.87</td>\n",
       "      <td>5.11</td>\n",
       "    </tr>\n",
       "    <tr>\n",
       "      <th>19</th>\n",
       "      <td>1979</td>\n",
       "      <td>50.6</td>\n",
       "      <td>61.6</td>\n",
       "      <td>1759.1</td>\n",
       "      <td>129.8</td>\n",
       "      <td>203.3</td>\n",
       "      <td>3.92</td>\n",
       "      <td>4.12</td>\n",
       "      <td>7.47</td>\n",
       "      <td>4.87</td>\n",
       "      <td>5.31</td>\n",
       "    </tr>\n",
       "    <tr>\n",
       "      <th>20</th>\n",
       "      <td>1980</td>\n",
       "      <td>50.1</td>\n",
       "      <td>58.9</td>\n",
       "      <td>1994.2</td>\n",
       "      <td>128.0</td>\n",
       "      <td>219.6</td>\n",
       "      <td>3.91</td>\n",
       "      <td>4.08</td>\n",
       "      <td>7.60</td>\n",
       "      <td>4.85</td>\n",
       "      <td>5.39</td>\n",
       "    </tr>\n",
       "    <tr>\n",
       "      <th>21</th>\n",
       "      <td>1981</td>\n",
       "      <td>51.7</td>\n",
       "      <td>66.4</td>\n",
       "      <td>2258.1</td>\n",
       "      <td>141.0</td>\n",
       "      <td>221.6</td>\n",
       "      <td>3.95</td>\n",
       "      <td>4.20</td>\n",
       "      <td>7.72</td>\n",
       "      <td>4.95</td>\n",
       "      <td>5.40</td>\n",
       "    </tr>\n",
       "    <tr>\n",
       "      <th>22</th>\n",
       "      <td>1982</td>\n",
       "      <td>52.9</td>\n",
       "      <td>70.4</td>\n",
       "      <td>2478.7</td>\n",
       "      <td>168.2</td>\n",
       "      <td>232.6</td>\n",
       "      <td>3.97</td>\n",
       "      <td>4.25</td>\n",
       "      <td>7.82</td>\n",
       "      <td>5.13</td>\n",
       "      <td>5.45</td>\n",
       "    </tr>\n",
       "  </tbody>\n",
       "</table>\n",
       "</div>"
      ],
      "text/plain": [
       "    year    qc    pc     inc     pp     pb  logqc  logpc  loginc  logpp  logpb\n",
       "18  1978  46.7  63.7  1575.5  130.9  165.5   3.84   4.15    7.36   4.87   5.11\n",
       "19  1979  50.6  61.6  1759.1  129.8  203.3   3.92   4.12    7.47   4.87   5.31\n",
       "20  1980  50.1  58.9  1994.2  128.0  219.6   3.91   4.08    7.60   4.85   5.39\n",
       "21  1981  51.7  66.4  2258.1  141.0  221.6   3.95   4.20    7.72   4.95   5.40\n",
       "22  1982  52.9  70.4  2478.7  168.2  232.6   3.97   4.25    7.82   5.13   5.45"
      ]
     },
     "execution_count": 50,
     "metadata": {},
     "output_type": "execute_result"
    }
   ],
   "source": [
    "dfChicken.tail().round(2)"
   ]
  },
  {
   "cell_type": "markdown",
   "metadata": {},
   "source": [
    "### 4.1. MODEL 2: Multivariate logarithmic regression"
   ]
  },
  {
   "cell_type": "code",
   "execution_count": 51,
   "metadata": {},
   "outputs": [
    {
     "data": {
      "text/html": [
       "<table class=\"simpletable\">\n",
       "<caption>OLS Regression Results</caption>\n",
       "<tr>\n",
       "  <th>Dep. Variable:</th>          <td>logqc</td>      <th>  R-squared:         </th> <td>   0.982</td>\n",
       "</tr>\n",
       "<tr>\n",
       "  <th>Model:</th>                   <td>OLS</td>       <th>  Adj. R-squared:    </th> <td>   0.978</td>\n",
       "</tr>\n",
       "<tr>\n",
       "  <th>Method:</th>             <td>Least Squares</td>  <th>  F-statistic:       </th> <td>   249.9</td>\n",
       "</tr>\n",
       "<tr>\n",
       "  <th>Date:</th>             <td>Thu, 01 Feb 2024</td> <th>  Prob (F-statistic):</th> <td>1.67e-15</td>\n",
       "</tr>\n",
       "<tr>\n",
       "  <th>Time:</th>                 <td>10:40:11</td>     <th>  Log-Likelihood:    </th> <td>  52.759</td>\n",
       "</tr>\n",
       "<tr>\n",
       "  <th>No. Observations:</th>      <td>    23</td>      <th>  AIC:               </th> <td>  -95.52</td>\n",
       "</tr>\n",
       "<tr>\n",
       "  <th>Df Residuals:</th>          <td>    18</td>      <th>  BIC:               </th> <td>  -89.84</td>\n",
       "</tr>\n",
       "<tr>\n",
       "  <th>Df Model:</th>              <td>     4</td>      <th>                     </th>     <td> </td>   \n",
       "</tr>\n",
       "<tr>\n",
       "  <th>Covariance Type:</th>      <td>nonrobust</td>    <th>                     </th>     <td> </td>   \n",
       "</tr>\n",
       "</table>\n",
       "<table class=\"simpletable\">\n",
       "<tr>\n",
       "      <td></td>         <th>coef</th>     <th>std err</th>      <th>t</th>      <th>P>|t|</th>  <th>[0.025</th>    <th>0.975]</th>  \n",
       "</tr>\n",
       "<tr>\n",
       "  <th>Intercept</th> <td>    2.1898</td> <td>    0.156</td> <td>   14.063</td> <td> 0.000</td> <td>    1.863</td> <td>    2.517</td>\n",
       "</tr>\n",
       "<tr>\n",
       "  <th>logpc</th>     <td>   -0.5046</td> <td>    0.111</td> <td>   -4.550</td> <td> 0.000</td> <td>   -0.738</td> <td>   -0.272</td>\n",
       "</tr>\n",
       "<tr>\n",
       "  <th>loginc</th>    <td>    0.3426</td> <td>    0.083</td> <td>    4.114</td> <td> 0.001</td> <td>    0.168</td> <td>    0.517</td>\n",
       "</tr>\n",
       "<tr>\n",
       "  <th>logpp</th>     <td>    0.1485</td> <td>    0.100</td> <td>    1.490</td> <td> 0.153</td> <td>   -0.061</td> <td>    0.358</td>\n",
       "</tr>\n",
       "<tr>\n",
       "  <th>logpb</th>     <td>    0.0911</td> <td>    0.101</td> <td>    0.905</td> <td> 0.378</td> <td>   -0.120</td> <td>    0.303</td>\n",
       "</tr>\n",
       "</table>\n",
       "<table class=\"simpletable\">\n",
       "<tr>\n",
       "  <th>Omnibus:</th>       <td> 1.145</td> <th>  Durbin-Watson:     </th> <td>   1.826</td>\n",
       "</tr>\n",
       "<tr>\n",
       "  <th>Prob(Omnibus):</th> <td> 0.564</td> <th>  Jarque-Bera (JB):  </th> <td>   1.078</td>\n",
       "</tr>\n",
       "<tr>\n",
       "  <th>Skew:</th>          <td> 0.427</td> <th>  Prob(JB):          </th> <td>   0.583</td>\n",
       "</tr>\n",
       "<tr>\n",
       "  <th>Kurtosis:</th>      <td> 2.370</td> <th>  Cond. No.          </th> <td>    388.</td>\n",
       "</tr>\n",
       "</table><br/><br/>Notes:<br/>[1] Standard Errors assume that the covariance matrix of the errors is correctly specified."
      ],
      "text/plain": [
       "<class 'statsmodels.iolib.summary.Summary'>\n",
       "\"\"\"\n",
       "                            OLS Regression Results                            \n",
       "==============================================================================\n",
       "Dep. Variable:                  logqc   R-squared:                       0.982\n",
       "Model:                            OLS   Adj. R-squared:                  0.978\n",
       "Method:                 Least Squares   F-statistic:                     249.9\n",
       "Date:                Thu, 01 Feb 2024   Prob (F-statistic):           1.67e-15\n",
       "Time:                        10:40:11   Log-Likelihood:                 52.759\n",
       "No. Observations:                  23   AIC:                            -95.52\n",
       "Df Residuals:                      18   BIC:                            -89.84\n",
       "Df Model:                           4                                         \n",
       "Covariance Type:            nonrobust                                         \n",
       "==============================================================================\n",
       "                 coef    std err          t      P>|t|      [0.025      0.975]\n",
       "------------------------------------------------------------------------------\n",
       "Intercept      2.1898      0.156     14.063      0.000       1.863       2.517\n",
       "logpc         -0.5046      0.111     -4.550      0.000      -0.738      -0.272\n",
       "loginc         0.3426      0.083      4.114      0.001       0.168       0.517\n",
       "logpp          0.1485      0.100      1.490      0.153      -0.061       0.358\n",
       "logpb          0.0911      0.101      0.905      0.378      -0.120       0.303\n",
       "==============================================================================\n",
       "Omnibus:                        1.145   Durbin-Watson:                   1.826\n",
       "Prob(Omnibus):                  0.564   Jarque-Bera (JB):                1.078\n",
       "Skew:                           0.427   Prob(JB):                        0.583\n",
       "Kurtosis:                       2.370   Cond. No.                         388.\n",
       "==============================================================================\n",
       "\n",
       "Notes:\n",
       "[1] Standard Errors assume that the covariance matrix of the errors is correctly specified.\n",
       "\"\"\""
      ]
     },
     "execution_count": 51,
     "metadata": {},
     "output_type": "execute_result"
    }
   ],
   "source": [
    "# estimate Model 2\n",
    "model2 = ols('logqc ~ logpc + loginc + logpp + logpb', dfChicken).fit()\n",
    "model2.summary()"
   ]
  },
  {
   "cell_type": "markdown",
   "metadata": {},
   "source": [
    "### 4.2. Tests of disturbances of Model 2"
   ]
  },
  {
   "cell_type": "code",
   "execution_count": 52,
   "metadata": {},
   "outputs": [],
   "source": [
    "# store model residuals\n",
    "resids2 = model2.resid"
   ]
  },
  {
   "cell_type": "code",
   "execution_count": 53,
   "metadata": {},
   "outputs": [
    {
     "data": {
      "image/png": "[encoded data removed]",
      "text/plain": [
       "<Figure size 640x480 with 1 Axes>"
      ]
     },
     "metadata": {},
     "output_type": "display_data"
    }
   ],
   "source": [
    "# Visual Normality Test\n",
    "qqplot(resids2, line='s');\n",
    "\n",
    "# Jarque-Bera test results are in the summary of Model 1"
   ]
  },
  {
   "cell_type": "code",
   "execution_count": 61,
   "metadata": {},
   "outputs": [
    {
     "name": "stdout",
     "output_type": "stream",
     "text": [
      "\n",
      " --- The Breusch-Pagan test ---\n",
      "                         value\n",
      "chi^2 test statistic  5.977008\n",
      "chi^2 test p-value    0.200872\n",
      "F-test statistic      1.580012\n",
      "F-test p-value        0.222519\n"
     ]
    }
   ],
   "source": [
    "# The Breusch-Pagan heteroskedasticity test\n",
    "BPtest = pd.DataFrame(sm.stats.diagnostic.het_breuschpagan(resids2, model2.model.exog), columns=['value'], \n",
    "                       index=['chi^2 test statistic', 'chi^2 test p-value', 'F-test statistic', 'F-test p-value'])\n",
    "\n",
    "print('\\n --- The Breusch-Pagan test ---')\n",
    "print(BPtest)"
   ]
  },
  {
   "cell_type": "code",
   "execution_count": null,
   "metadata": {},
   "outputs": [
    {
     "data": {
      "image/png": "[encoded data removed]",
      "text/plain": [
       "<Figure size 640x480 with 1 Axes>"
      ]
     },
     "metadata": {},
     "output_type": "display_data"
    }
   ],
   "source": [
    "# Graphical Autocorrelation Test\n",
    "acf = smt.graphics.plot_acf(resids2, lags=6, alpha=0.05)\n",
    "acf.show()"
   ]
  },
  {
   "cell_type": "code",
   "execution_count": 62,
   "metadata": {},
   "outputs": [
    {
     "name": "stdout",
     "output_type": "stream",
     "text": [
      "\n",
      " --- The Breusch-Godfrey test ---\n",
      "                         value\n",
      "chi^2 test statistic  2.471524\n",
      "chi^2 test p-value    0.290613\n",
      "F-test statistic      0.963159\n",
      "F-test p-value        0.402746\n"
     ]
    }
   ],
   "source": [
    "# The Breusch-Godfrey autocorrelation test\n",
    "BGtest = pd.DataFrame(sm.stats.diagnostic.acorr_breusch_godfrey(model2, nlags=2), columns=['value'], \n",
    "                       index=['chi^2 test statistic', 'chi^2 test p-value', 'F-test statistic', 'F-test p-value'])\n",
    "\n",
    "print('\\n --- The Breusch-Godfrey test ---')\n",
    "print(BGtest)"
   ]
  },
  {
   "cell_type": "markdown",
   "metadata": {},
   "source": [
    "### 4.3. Tests of the specification of Model 2"
   ]
  },
  {
   "cell_type": "code",
   "execution_count": 63,
   "metadata": {},
   "outputs": [
    {
     "name": "stdout",
     "output_type": "stream",
     "text": [
      "<F test: F=1.7575340956014627, p=0.20417345404777867, df_denom=16, df_num=2>\n"
     ]
    }
   ],
   "source": [
    "# The RESET test\n",
    "reset2 = reset_ramsey(model2, degree=3)\n",
    "print(reset2)"
   ]
  },
  {
   "cell_type": "code",
   "execution_count": 64,
   "metadata": {},
   "outputs": [
    {
     "data": {
      "text/html": [
       "<div>\n",
       "<style scoped>\n",
       "    .dataframe tbody tr th:only-of-type {\n",
       "        vertical-align: middle;\n",
       "    }\n",
       "\n",
       "    .dataframe tbody tr th {\n",
       "        vertical-align: top;\n",
       "    }\n",
       "\n",
       "    .dataframe thead th {\n",
       "        text-align: right;\n",
       "    }\n",
       "</style>\n",
       "<table border=\"1\" class=\"dataframe\">\n",
       "  <thead>\n",
       "    <tr style=\"text-align: right;\">\n",
       "      <th></th>\n",
       "      <th>regressor</th>\n",
       "      <th>VIF</th>\n",
       "    </tr>\n",
       "  </thead>\n",
       "  <tbody>\n",
       "    <tr>\n",
       "      <th>0</th>\n",
       "      <td>logpc</td>\n",
       "      <td>17.49</td>\n",
       "    </tr>\n",
       "    <tr>\n",
       "      <th>1</th>\n",
       "      <td>loginc</td>\n",
       "      <td>65.11</td>\n",
       "    </tr>\n",
       "    <tr>\n",
       "      <th>2</th>\n",
       "      <td>logpp</td>\n",
       "      <td>41.43</td>\n",
       "    </tr>\n",
       "    <tr>\n",
       "      <th>3</th>\n",
       "      <td>logpb</td>\n",
       "      <td>42.31</td>\n",
       "    </tr>\n",
       "  </tbody>\n",
       "</table>\n",
       "</div>"
      ],
      "text/plain": [
       "  regressor    VIF\n",
       "0     logpc  17.49\n",
       "1    loginc  65.11\n",
       "2     logpp  41.43\n",
       "3     logpb  42.31"
      ]
     },
     "execution_count": 64,
     "metadata": {},
     "output_type": "execute_result"
    }
   ],
   "source": [
    "# Multicollinearity Test\n",
    "dfXXlog = dfChicken.drop(['year', 'qc', 'pc', 'inc', 'pp', 'pb', 'logqc'], axis=1)\n",
    "\n",
    "dfVIFslog = pd.DataFrame()\n",
    "dfVIFslog['regressor'] = dfXXlog.columns\n",
    "dfVIFslog['VIF'] = np.linalg.inv(dfXXlog.corr().to_numpy()).diagonal().round(2)\n",
    "dfVIFslog"
   ]
  },
  {
   "cell_type": "code",
   "execution_count": 65,
   "metadata": {},
   "outputs": [
    {
     "data": {
      "text/html": [
       "<div>\n",
       "<style scoped>\n",
       "    .dataframe tbody tr th:only-of-type {\n",
       "        vertical-align: middle;\n",
       "    }\n",
       "\n",
       "    .dataframe tbody tr th {\n",
       "        vertical-align: top;\n",
       "    }\n",
       "\n",
       "    .dataframe thead th {\n",
       "        text-align: right;\n",
       "    }\n",
       "</style>\n",
       "<table border=\"1\" class=\"dataframe\">\n",
       "  <thead>\n",
       "    <tr style=\"text-align: right;\">\n",
       "      <th></th>\n",
       "      <th>logpc</th>\n",
       "      <th>loginc</th>\n",
       "      <th>logpp</th>\n",
       "      <th>logpb</th>\n",
       "    </tr>\n",
       "  </thead>\n",
       "  <tbody>\n",
       "    <tr>\n",
       "      <th>logpc</th>\n",
       "      <td>1.000</td>\n",
       "      <td>0.907</td>\n",
       "      <td>0.947</td>\n",
       "      <td>0.933</td>\n",
       "    </tr>\n",
       "    <tr>\n",
       "      <th>loginc</th>\n",
       "      <td>0.907</td>\n",
       "      <td>1.000</td>\n",
       "      <td>0.972</td>\n",
       "      <td>0.979</td>\n",
       "    </tr>\n",
       "    <tr>\n",
       "      <th>logpp</th>\n",
       "      <td>0.947</td>\n",
       "      <td>0.972</td>\n",
       "      <td>1.000</td>\n",
       "      <td>0.954</td>\n",
       "    </tr>\n",
       "    <tr>\n",
       "      <th>logpb</th>\n",
       "      <td>0.933</td>\n",
       "      <td>0.979</td>\n",
       "      <td>0.954</td>\n",
       "      <td>1.000</td>\n",
       "    </tr>\n",
       "  </tbody>\n",
       "</table>\n",
       "</div>"
      ],
      "text/plain": [
       "        logpc  loginc  logpp  logpb\n",
       "logpc   1.000   0.907  0.947  0.933\n",
       "loginc  0.907   1.000  0.972  0.979\n",
       "logpp   0.947   0.972  1.000  0.954\n",
       "logpb   0.933   0.979  0.954  1.000"
      ]
     },
     "execution_count": 65,
     "metadata": {},
     "output_type": "execute_result"
    }
   ],
   "source": [
    "# Correlation analysis\n",
    "dfXXlog.corr().round(3)"
   ]
  },
  {
   "cell_type": "markdown",
   "metadata": {},
   "source": [
    "### 4.4. Tests of the coefficients of Model 2"
   ]
  },
  {
   "cell_type": "code",
   "execution_count": 66,
   "metadata": {},
   "outputs": [],
   "source": [
    "# Discuss the summary of Model 2:\n",
    "# * signs and significance of the coefficients\n",
    "# * overall significance of the model"
   ]
  },
  {
   "cell_type": "code",
   "execution_count": 67,
   "metadata": {},
   "outputs": [
    {
     "name": "stdout",
     "output_type": "stream",
     "text": [
      "<F test: F=1.1392446294495695, p=0.3420835357269269, df_denom=18, df_num=2>\n"
     ]
    }
   ],
   "source": [
    "# linear hypotheses test for group (in)significance\n",
    "linHypothesis2 = '(logpp = logpb), (logpb = 0)'\n",
    "print(model2.f_test(linHypothesis2))"
   ]
  },
  {
   "cell_type": "code",
   "execution_count": 68,
   "metadata": {},
   "outputs": [
    {
     "name": "stdout",
     "output_type": "stream",
     "text": [
      "<F test: F=19.957543753413383, p=0.0002976686528111583, df_denom=18, df_num=1>\n"
     ]
    }
   ],
   "source": [
    "# linear hypotheses test of price elasticity\n",
    "linHypothesis3 = '(logpc = -1)'\n",
    "print(model2.f_test(linHypothesis3))"
   ]
  },
  {
   "cell_type": "code",
   "execution_count": 69,
   "metadata": {},
   "outputs": [
    {
     "name": "stdout",
     "output_type": "stream",
     "text": [
      "<F test: F=62.34191183308933, p=2.952909638185195e-07, df_denom=18, df_num=1>\n"
     ]
    }
   ],
   "source": [
    "# linear hypotheses test of income elasticity\n",
    "linHypothesis4 = '(loginc = 1)'\n",
    "print(model2.f_test(linHypothesis4))"
   ]
  },
  {
   "cell_type": "markdown",
   "metadata": {},
   "source": [
    "## 5. Optimized logarithmic model"
   ]
  },
  {
   "cell_type": "code",
   "execution_count": 70,
   "metadata": {
    "tags": []
   },
   "outputs": [
    {
     "data": {
      "text/html": [
       "<table class=\"simpletable\">\n",
       "<caption>OLS Regression Results</caption>\n",
       "<tr>\n",
       "  <th>Dep. Variable:</th>          <td>logqc</td>      <th>  R-squared:         </th> <td>   0.980</td>\n",
       "</tr>\n",
       "<tr>\n",
       "  <th>Model:</th>                   <td>OLS</td>       <th>  Adj. R-squared:    </th> <td>   0.978</td>\n",
       "</tr>\n",
       "<tr>\n",
       "  <th>Method:</th>             <td>Least Squares</td>  <th>  F-statistic:       </th> <td>   491.9</td>\n",
       "</tr>\n",
       "<tr>\n",
       "  <th>Date:</th>             <td>Thu, 01 Feb 2024</td> <th>  Prob (F-statistic):</th> <td>9.87e-18</td>\n",
       "</tr>\n",
       "<tr>\n",
       "  <th>Time:</th>                 <td>11:05:02</td>     <th>  Log-Likelihood:    </th> <td>  51.389</td>\n",
       "</tr>\n",
       "<tr>\n",
       "  <th>No. Observations:</th>      <td>    23</td>      <th>  AIC:               </th> <td>  -96.78</td>\n",
       "</tr>\n",
       "<tr>\n",
       "  <th>Df Residuals:</th>          <td>    20</td>      <th>  BIC:               </th> <td>  -93.37</td>\n",
       "</tr>\n",
       "<tr>\n",
       "  <th>Df Model:</th>              <td>     2</td>      <th>                     </th>     <td> </td>   \n",
       "</tr>\n",
       "<tr>\n",
       "  <th>Covariance Type:</th>      <td>nonrobust</td>    <th>                     </th>     <td> </td>   \n",
       "</tr>\n",
       "</table>\n",
       "<table class=\"simpletable\">\n",
       "<tr>\n",
       "      <td></td>         <th>coef</th>     <th>std err</th>      <th>t</th>      <th>P>|t|</th>  <th>[0.025</th>    <th>0.975]</th>  \n",
       "</tr>\n",
       "<tr>\n",
       "  <th>Intercept</th> <td>    2.0328</td> <td>    0.116</td> <td>   17.497</td> <td> 0.000</td> <td>    1.790</td> <td>    2.275</td>\n",
       "</tr>\n",
       "<tr>\n",
       "  <th>logpc</th>     <td>   -0.3722</td> <td>    0.063</td> <td>   -5.865</td> <td> 0.000</td> <td>   -0.505</td> <td>   -0.240</td>\n",
       "</tr>\n",
       "<tr>\n",
       "  <th>loginc</th>    <td>    0.4515</td> <td>    0.025</td> <td>   18.284</td> <td> 0.000</td> <td>    0.400</td> <td>    0.503</td>\n",
       "</tr>\n",
       "</table>\n",
       "<table class=\"simpletable\">\n",
       "<tr>\n",
       "  <th>Omnibus:</th>       <td> 2.073</td> <th>  Durbin-Watson:     </th> <td>   1.876</td>\n",
       "</tr>\n",
       "<tr>\n",
       "  <th>Prob(Omnibus):</th> <td> 0.355</td> <th>  Jarque-Bera (JB):  </th> <td>   1.676</td>\n",
       "</tr>\n",
       "<tr>\n",
       "  <th>Skew:</th>          <td> 0.634</td> <th>  Prob(JB):          </th> <td>   0.433</td>\n",
       "</tr>\n",
       "<tr>\n",
       "  <th>Kurtosis:</th>      <td> 2.624</td> <th>  Cond. No.          </th> <td>    175.</td>\n",
       "</tr>\n",
       "</table><br/><br/>Notes:<br/>[1] Standard Errors assume that the covariance matrix of the errors is correctly specified."
      ],
      "text/plain": [
       "<class 'statsmodels.iolib.summary.Summary'>\n",
       "\"\"\"\n",
       "                            OLS Regression Results                            \n",
       "==============================================================================\n",
       "Dep. Variable:                  logqc   R-squared:                       0.980\n",
       "Model:                            OLS   Adj. R-squared:                  0.978\n",
       "Method:                 Least Squares   F-statistic:                     491.9\n",
       "Date:                Thu, 01 Feb 2024   Prob (F-statistic):           9.87e-18\n",
       "Time:                        11:05:02   Log-Likelihood:                 51.389\n",
       "No. Observations:                  23   AIC:                            -96.78\n",
       "Df Residuals:                      20   BIC:                            -93.37\n",
       "Df Model:                           2                                         \n",
       "Covariance Type:            nonrobust                                         \n",
       "==============================================================================\n",
       "                 coef    std err          t      P>|t|      [0.025      0.975]\n",
       "------------------------------------------------------------------------------\n",
       "Intercept      2.0328      0.116     17.497      0.000       1.790       2.275\n",
       "logpc         -0.3722      0.063     -5.865      0.000      -0.505      -0.240\n",
       "loginc         0.4515      0.025     18.284      0.000       0.400       0.503\n",
       "==============================================================================\n",
       "Omnibus:                        2.073   Durbin-Watson:                   1.876\n",
       "Prob(Omnibus):                  0.355   Jarque-Bera (JB):                1.676\n",
       "Skew:                           0.634   Prob(JB):                        0.433\n",
       "Kurtosis:                       2.624   Cond. No.                         175.\n",
       "==============================================================================\n",
       "\n",
       "Notes:\n",
       "[1] Standard Errors assume that the covariance matrix of the errors is correctly specified.\n",
       "\"\"\""
      ]
     },
     "execution_count": 70,
     "metadata": {},
     "output_type": "execute_result"
    }
   ],
   "source": [
    "# estimate Model 3\n",
    "model3 = ols('logqc ~ logpc + loginc', dfChicken).fit()\n",
    "model3.summary()"
   ]
  },
  {
   "cell_type": "code",
   "execution_count": 71,
   "metadata": {
    "tags": []
   },
   "outputs": [
    {
     "data": {
      "text/html": [
       "<table class=\"simpletable\">\n",
       "<caption>OLS Regression Results</caption>\n",
       "<tr>\n",
       "  <th>Dep. Variable:</th>          <td>logqc</td>      <th>  R-squared:         </th> <td>   0.982</td>\n",
       "</tr>\n",
       "<tr>\n",
       "  <th>Model:</th>                   <td>OLS</td>       <th>  Adj. R-squared:    </th> <td>   0.978</td>\n",
       "</tr>\n",
       "<tr>\n",
       "  <th>Method:</th>             <td>Least Squares</td>  <th>  F-statistic:       </th> <td>   249.9</td>\n",
       "</tr>\n",
       "<tr>\n",
       "  <th>Date:</th>             <td>Thu, 01 Feb 2024</td> <th>  Prob (F-statistic):</th> <td>1.67e-15</td>\n",
       "</tr>\n",
       "<tr>\n",
       "  <th>Time:</th>                 <td>11:05:02</td>     <th>  Log-Likelihood:    </th> <td>  52.759</td>\n",
       "</tr>\n",
       "<tr>\n",
       "  <th>No. Observations:</th>      <td>    23</td>      <th>  AIC:               </th> <td>  -95.52</td>\n",
       "</tr>\n",
       "<tr>\n",
       "  <th>Df Residuals:</th>          <td>    18</td>      <th>  BIC:               </th> <td>  -89.84</td>\n",
       "</tr>\n",
       "<tr>\n",
       "  <th>Df Model:</th>              <td>     4</td>      <th>                     </th>     <td> </td>   \n",
       "</tr>\n",
       "<tr>\n",
       "  <th>Covariance Type:</th>      <td>nonrobust</td>    <th>                     </th>     <td> </td>   \n",
       "</tr>\n",
       "</table>\n",
       "<table class=\"simpletable\">\n",
       "<tr>\n",
       "      <td></td>         <th>coef</th>     <th>std err</th>      <th>t</th>      <th>P>|t|</th>  <th>[0.025</th>    <th>0.975]</th>  \n",
       "</tr>\n",
       "<tr>\n",
       "  <th>Intercept</th> <td>    2.1898</td> <td>    0.156</td> <td>   14.063</td> <td> 0.000</td> <td>    1.863</td> <td>    2.517</td>\n",
       "</tr>\n",
       "<tr>\n",
       "  <th>logpc</th>     <td>   -0.5046</td> <td>    0.111</td> <td>   -4.550</td> <td> 0.000</td> <td>   -0.738</td> <td>   -0.272</td>\n",
       "</tr>\n",
       "<tr>\n",
       "  <th>loginc</th>    <td>    0.3426</td> <td>    0.083</td> <td>    4.114</td> <td> 0.001</td> <td>    0.168</td> <td>    0.517</td>\n",
       "</tr>\n",
       "<tr>\n",
       "  <th>logpp</th>     <td>    0.1485</td> <td>    0.100</td> <td>    1.490</td> <td> 0.153</td> <td>   -0.061</td> <td>    0.358</td>\n",
       "</tr>\n",
       "<tr>\n",
       "  <th>logpb</th>     <td>    0.0911</td> <td>    0.101</td> <td>    0.905</td> <td> 0.378</td> <td>   -0.120</td> <td>    0.303</td>\n",
       "</tr>\n",
       "</table>\n",
       "<table class=\"simpletable\">\n",
       "<tr>\n",
       "  <th>Omnibus:</th>       <td> 1.145</td> <th>  Durbin-Watson:     </th> <td>   1.826</td>\n",
       "</tr>\n",
       "<tr>\n",
       "  <th>Prob(Omnibus):</th> <td> 0.564</td> <th>  Jarque-Bera (JB):  </th> <td>   1.078</td>\n",
       "</tr>\n",
       "<tr>\n",
       "  <th>Skew:</th>          <td> 0.427</td> <th>  Prob(JB):          </th> <td>   0.583</td>\n",
       "</tr>\n",
       "<tr>\n",
       "  <th>Kurtosis:</th>      <td> 2.370</td> <th>  Cond. No.          </th> <td>    388.</td>\n",
       "</tr>\n",
       "</table><br/><br/>Notes:<br/>[1] Standard Errors assume that the covariance matrix of the errors is correctly specified."
      ],
      "text/plain": [
       "<class 'statsmodels.iolib.summary.Summary'>\n",
       "\"\"\"\n",
       "                            OLS Regression Results                            \n",
       "==============================================================================\n",
       "Dep. Variable:                  logqc   R-squared:                       0.982\n",
       "Model:                            OLS   Adj. R-squared:                  0.978\n",
       "Method:                 Least Squares   F-statistic:                     249.9\n",
       "Date:                Thu, 01 Feb 2024   Prob (F-statistic):           1.67e-15\n",
       "Time:                        11:05:02   Log-Likelihood:                 52.759\n",
       "No. Observations:                  23   AIC:                            -95.52\n",
       "Df Residuals:                      18   BIC:                            -89.84\n",
       "Df Model:                           4                                         \n",
       "Covariance Type:            nonrobust                                         \n",
       "==============================================================================\n",
       "                 coef    std err          t      P>|t|      [0.025      0.975]\n",
       "------------------------------------------------------------------------------\n",
       "Intercept      2.1898      0.156     14.063      0.000       1.863       2.517\n",
       "logpc         -0.5046      0.111     -4.550      0.000      -0.738      -0.272\n",
       "loginc         0.3426      0.083      4.114      0.001       0.168       0.517\n",
       "logpp          0.1485      0.100      1.490      0.153      -0.061       0.358\n",
       "logpb          0.0911      0.101      0.905      0.378      -0.120       0.303\n",
       "==============================================================================\n",
       "Omnibus:                        1.145   Durbin-Watson:                   1.826\n",
       "Prob(Omnibus):                  0.564   Jarque-Bera (JB):                1.078\n",
       "Skew:                           0.427   Prob(JB):                        0.583\n",
       "Kurtosis:                       2.370   Cond. No.                         388.\n",
       "==============================================================================\n",
       "\n",
       "Notes:\n",
       "[1] Standard Errors assume that the covariance matrix of the errors is correctly specified.\n",
       "\"\"\""
      ]
     },
     "execution_count": 71,
     "metadata": {},
     "output_type": "execute_result"
    }
   ],
   "source": [
    "# compare with Model 3 with Model 2\n",
    "model2.summary()"
   ]
  },
  {
   "cell_type": "markdown",
   "metadata": {},
   "source": [
    "## 6. Predictions"
   ]
  },
  {
   "cell_type": "markdown",
   "metadata": {},
   "source": [
    "Let's say we know that in 1983 the values of our two variables were the following:\n",
    "\n",
    "- Pc = 69.3\n",
    "- Inc = 2567.7"
   ]
  },
  {
   "cell_type": "code",
   "execution_count": 72,
   "metadata": {},
   "outputs": [
    {
     "data": {
      "text/html": [
       "<div>\n",
       "<style scoped>\n",
       "    .dataframe tbody tr th:only-of-type {\n",
       "        vertical-align: middle;\n",
       "    }\n",
       "\n",
       "    .dataframe tbody tr th {\n",
       "        vertical-align: top;\n",
       "    }\n",
       "\n",
       "    .dataframe thead th {\n",
       "        text-align: right;\n",
       "    }\n",
       "</style>\n",
       "<table border=\"1\" class=\"dataframe\">\n",
       "  <thead>\n",
       "    <tr style=\"text-align: right;\">\n",
       "      <th></th>\n",
       "      <th>logpc</th>\n",
       "      <th>loginc</th>\n",
       "    </tr>\n",
       "  </thead>\n",
       "  <tbody>\n",
       "    <tr>\n",
       "      <th>0</th>\n",
       "      <td>4.238445</td>\n",
       "      <td>7.850766</td>\n",
       "    </tr>\n",
       "  </tbody>\n",
       "</table>\n",
       "</div>"
      ],
      "text/plain": [
       "      logpc    loginc\n",
       "0  4.238445  7.850766"
      ]
     },
     "execution_count": 72,
     "metadata": {},
     "output_type": "execute_result"
    }
   ],
   "source": [
    "# make a data-frame\n",
    "dfChickenNew = pd.DataFrame({'logpc': [np.log(69.3)],\n",
    "                             'loginc': [np.log(2567.7)]})\n",
    "dfChickenNew"
   ]
  },
  {
   "cell_type": "code",
   "execution_count": 73,
   "metadata": {},
   "outputs": [
    {
     "name": "stdout",
     "output_type": "stream",
     "text": [
      "   mean  mean_se  mean_ci_lower  mean_ci_upper  obs_ci_lower  obs_ci_upper\n",
      "0   4.0     0.01           3.97           4.03          3.94          4.06\n"
     ]
    }
   ],
   "source": [
    "# obtain a forecast\n",
    "print(model3.get_prediction(dfChickenNew, weights=1).summary_frame(alpha=0.05).round(2))"
   ]
  },
  {
   "cell_type": "code",
   "execution_count": 74,
   "metadata": {},
   "outputs": [
    {
     "data": {
      "text/plain": [
       "54.598"
      ]
     },
     "execution_count": 74,
     "metadata": {},
     "output_type": "execute_result"
    }
   ],
   "source": [
    "# calculate the exponent of the forecast\n",
    "np.exp(4.0).round(3)"
   ]
  },
  {
   "cell_type": "code",
   "execution_count": null,
   "metadata": {},
   "outputs": [],
   "source": []
  }
 ],
 "metadata": {
  "kernelspec": {
   "display_name": "Python 3 (ipykernel)",
   "language": "python",
   "name": "python3"
  },
  "language_info": {
   "codemirror_mode": {
    "name": "ipython",
    "version": 3
   },
   "file_extension": ".py",
   "mimetype": "text/x-python",
   "name": "python",
   "nbconvert_exporter": "python",
   "pygments_lexer": "ipython3",
   "version": "3.10.8"
  },
  "varInspector": {
   "cols": {
    "lenName": 16,
    "lenType": 16,
    "lenVar": 40
   },
   "kernels_config": {
    "python": {
     "delete_cmd_postfix": "",
     "delete_cmd_prefix": "del ",
     "library": "var_list.py",
     "varRefreshCmd": "print(var_dic_list())"
    },
    "r": {
     "delete_cmd_postfix": ") ",
     "delete_cmd_prefix": "rm(",
     "library": "var_list.r",
     "varRefreshCmd": "cat(var_dic_list()) "
    }
   },
   "oldHeight": 273,
   "position": {
    "height": "295px",
    "left": "723.983px",
    "right": "20px",
    "top": "58.9833px",
    "width": "350px"
   },
   "types_to_exclude": [
    "module",
    "function",
    "builtin_function_or_method",
    "instance",
    "_Feature"
   ],
   "varInspector_section_display": "block",
   "window_display": false
  }
 },
 "nbformat": 4,
 "nbformat_minor": 4
}
