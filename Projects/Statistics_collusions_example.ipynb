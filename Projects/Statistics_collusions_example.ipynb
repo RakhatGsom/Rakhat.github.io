{
 "cells": [
  {
   "cell_type": "code",
   "execution_count": 1,
   "id": "be8903fb",
   "metadata": {},
   "outputs": [],
   "source": [
    "# loading packages\n",
    "import numpy as np\n",
    "import pandas as pd\n",
    "import matplotlib.pyplot as plt\n",
    "import scipy.stats\n",
    "\n",
    "# packages for statistical analysis\n",
    "import statsmodels.api\n",
    "import statsmodels.formula.api as smFrmApi\n",
    "import statsmodels.stats as stats\n",
    "\n",
    "from statsmodels.graphics.mosaicplot import mosaic\n",
    "from statsmodels.graphics.gofplots import qqplot\n",
    "from statsmodels.stats.outliers_influence import reset_ramsey"
   ]
  },
  {
   "cell_type": "code",
   "execution_count": 2,
   "id": "e1b89be1",
   "metadata": {},
   "outputs": [],
   "source": [
    "# function for making histograms\n",
    "def myHist(x, xname, mybins=10):\n",
    "    pd_x = pd.Series(x)\n",
    "  \n",
    "    # the Jarque-Bera test\n",
    "    print('\\n --- The Jarque-Bera normality test for '+ xname + '---')\n",
    "    print(pd.DataFrame(scipy.stats.jarque_bera(x), columns=['value'],\n",
    "                   index=['chi^2 test statistic', 'chi^2 test p-value']))\n",
    "    # histogram\n",
    "    pd_x.plot.hist(grid=True, bins=mybins, rwidth=0.9, color='lightblue')\n",
    "    plt.title('Histogram for ' + xname)\n",
    "    plt.xlabel('')\n",
    "    plt.ylabel('')\n",
    "    plt.show()\n",
    "    \n",
    "    # Q-Q plot\n",
    "    qqplot(x, line='s')"
   ]
  },
  {
   "cell_type": "code",
   "execution_count": 3,
   "id": "2b57dae4",
   "metadata": {},
   "outputs": [],
   "source": [
    "# read the data from MS Excel file\n",
    "dfcollu = pd.read_excel('collusions_1.xlsx', 'data', index_col=None, na_values=['NA'])"
   ]
  },
  {
   "cell_type": "code",
   "execution_count": 4,
   "id": "fafaf348",
   "metadata": {},
   "outputs": [],
   "source": [
    "dfcollu['logprice'] = np.log(dfcollu['price'])"
   ]
  },
  {
   "cell_type": "code",
   "execution_count": 5,
   "id": "c4542fcc",
   "metadata": {},
   "outputs": [
    {
     "data": {
      "text/html": [
       "<div>\n",
       "<style scoped>\n",
       "    .dataframe tbody tr th:only-of-type {\n",
       "        vertical-align: middle;\n",
       "    }\n",
       "\n",
       "    .dataframe tbody tr th {\n",
       "        vertical-align: top;\n",
       "    }\n",
       "\n",
       "    .dataframe thead th {\n",
       "        text-align: right;\n",
       "    }\n",
       "</style>\n",
       "<table border=\"1\" class=\"dataframe\">\n",
       "  <thead>\n",
       "    <tr style=\"text-align: right;\">\n",
       "      <th></th>\n",
       "      <th>auctionID</th>\n",
       "      <th>collusion</th>\n",
       "      <th>price</th>\n",
       "      <th>participants</th>\n",
       "      <th>reduction</th>\n",
       "      <th>difftimes</th>\n",
       "      <th>logprice</th>\n",
       "    </tr>\n",
       "  </thead>\n",
       "  <tbody>\n",
       "    <tr>\n",
       "      <th>0</th>\n",
       "      <td>1</td>\n",
       "      <td>0</td>\n",
       "      <td>142500.00</td>\n",
       "      <td>3</td>\n",
       "      <td>3.500000</td>\n",
       "      <td>1</td>\n",
       "      <td>11.867097</td>\n",
       "    </tr>\n",
       "    <tr>\n",
       "      <th>1</th>\n",
       "      <td>2</td>\n",
       "      <td>0</td>\n",
       "      <td>13132900.00</td>\n",
       "      <td>11</td>\n",
       "      <td>63.568227</td>\n",
       "      <td>1</td>\n",
       "      <td>16.390631</td>\n",
       "    </tr>\n",
       "    <tr>\n",
       "      <th>2</th>\n",
       "      <td>3</td>\n",
       "      <td>0</td>\n",
       "      <td>7309500.00</td>\n",
       "      <td>3</td>\n",
       "      <td>54.540008</td>\n",
       "      <td>1</td>\n",
       "      <td>15.804685</td>\n",
       "    </tr>\n",
       "    <tr>\n",
       "      <th>3</th>\n",
       "      <td>4</td>\n",
       "      <td>0</td>\n",
       "      <td>86557.00</td>\n",
       "      <td>4</td>\n",
       "      <td>10.500121</td>\n",
       "      <td>1</td>\n",
       "      <td>11.368558</td>\n",
       "    </tr>\n",
       "    <tr>\n",
       "      <th>4</th>\n",
       "      <td>5</td>\n",
       "      <td>0</td>\n",
       "      <td>111249.90</td>\n",
       "      <td>3</td>\n",
       "      <td>4.000004</td>\n",
       "      <td>1</td>\n",
       "      <td>11.619534</td>\n",
       "    </tr>\n",
       "    <tr>\n",
       "      <th>5</th>\n",
       "      <td>6</td>\n",
       "      <td>0</td>\n",
       "      <td>54640.82</td>\n",
       "      <td>4</td>\n",
       "      <td>35.499467</td>\n",
       "      <td>1</td>\n",
       "      <td>10.908537</td>\n",
       "    </tr>\n",
       "  </tbody>\n",
       "</table>\n",
       "</div>"
      ],
      "text/plain": [
       "   auctionID  collusion        price  participants  reduction  difftimes  \\\n",
       "0          1          0    142500.00             3   3.500000          1   \n",
       "1          2          0  13132900.00            11  63.568227          1   \n",
       "2          3          0   7309500.00             3  54.540008          1   \n",
       "3          4          0     86557.00             4  10.500121          1   \n",
       "4          5          0    111249.90             3   4.000004          1   \n",
       "5          6          0     54640.82             4  35.499467          1   \n",
       "\n",
       "    logprice  \n",
       "0  11.867097  \n",
       "1  16.390631  \n",
       "2  15.804685  \n",
       "3  11.368558  \n",
       "4  11.619534  \n",
       "5  10.908537  "
      ]
     },
     "execution_count": 5,
     "metadata": {},
     "output_type": "execute_result"
    }
   ],
   "source": [
    "dfcollu.head(6)"
   ]
  },
  {
   "cell_type": "markdown",
   "id": "abab044e",
   "metadata": {},
   "source": [
    "# Task 1"
   ]
  },
  {
   "cell_type": "code",
   "execution_count": 6,
   "id": "da535532",
   "metadata": {},
   "outputs": [],
   "source": [
    "# Ectracting variables\n",
    "\n",
    "# extract the variables\n",
    "collusion = dfcollu['collusion']\n",
    "price = dfcollu['price']\n",
    "participants = dfcollu['participants']\n",
    "reduction = dfcollu['reduction']\n",
    "difftimes = dfcollu['difftimes']\n",
    "logprice = dfcollu['logprice']"
   ]
  },
  {
   "cell_type": "code",
   "execution_count": 7,
   "id": "c31248af",
   "metadata": {},
   "outputs": [
    {
     "data": {
      "text/html": [
       "<div>\n",
       "<style scoped>\n",
       "    .dataframe tbody tr th:only-of-type {\n",
       "        vertical-align: middle;\n",
       "    }\n",
       "\n",
       "    .dataframe tbody tr th {\n",
       "        vertical-align: top;\n",
       "    }\n",
       "\n",
       "    .dataframe thead th {\n",
       "        text-align: right;\n",
       "    }\n",
       "</style>\n",
       "<table border=\"1\" class=\"dataframe\">\n",
       "  <thead>\n",
       "    <tr style=\"text-align: right;\">\n",
       "      <th></th>\n",
       "      <th>auctionID</th>\n",
       "      <th>collusion</th>\n",
       "      <th>price</th>\n",
       "      <th>participants</th>\n",
       "      <th>reduction</th>\n",
       "      <th>difftimes</th>\n",
       "      <th>logprice</th>\n",
       "    </tr>\n",
       "  </thead>\n",
       "  <tbody>\n",
       "    <tr>\n",
       "      <th>count</th>\n",
       "      <td>215.000</td>\n",
       "      <td>215.000</td>\n",
       "      <td>2.150000e+02</td>\n",
       "      <td>215.000</td>\n",
       "      <td>215.000</td>\n",
       "      <td>215.00</td>\n",
       "      <td>215.000</td>\n",
       "    </tr>\n",
       "    <tr>\n",
       "      <th>mean</th>\n",
       "      <td>108.000</td>\n",
       "      <td>0.563</td>\n",
       "      <td>3.537565e+06</td>\n",
       "      <td>2.726</td>\n",
       "      <td>10.062</td>\n",
       "      <td>0.54</td>\n",
       "      <td>14.014</td>\n",
       "    </tr>\n",
       "    <tr>\n",
       "      <th>std</th>\n",
       "      <td>62.209</td>\n",
       "      <td>0.497</td>\n",
       "      <td>6.059638e+06</td>\n",
       "      <td>1.344</td>\n",
       "      <td>12.915</td>\n",
       "      <td>0.50</td>\n",
       "      <td>1.559</td>\n",
       "    </tr>\n",
       "    <tr>\n",
       "      <th>min</th>\n",
       "      <td>1.000</td>\n",
       "      <td>0.000</td>\n",
       "      <td>6.480000e+03</td>\n",
       "      <td>2.000</td>\n",
       "      <td>0.500</td>\n",
       "      <td>0.00</td>\n",
       "      <td>8.776</td>\n",
       "    </tr>\n",
       "    <tr>\n",
       "      <th>25%</th>\n",
       "      <td>54.500</td>\n",
       "      <td>0.000</td>\n",
       "      <td>4.362397e+05</td>\n",
       "      <td>2.000</td>\n",
       "      <td>1.000</td>\n",
       "      <td>0.00</td>\n",
       "      <td>12.986</td>\n",
       "    </tr>\n",
       "    <tr>\n",
       "      <th>50%</th>\n",
       "      <td>108.000</td>\n",
       "      <td>1.000</td>\n",
       "      <td>1.093394e+06</td>\n",
       "      <td>2.000</td>\n",
       "      <td>1.654</td>\n",
       "      <td>1.00</td>\n",
       "      <td>13.905</td>\n",
       "    </tr>\n",
       "    <tr>\n",
       "      <th>75%</th>\n",
       "      <td>161.500</td>\n",
       "      <td>1.000</td>\n",
       "      <td>3.525825e+06</td>\n",
       "      <td>3.000</td>\n",
       "      <td>18.750</td>\n",
       "      <td>1.00</td>\n",
       "      <td>15.076</td>\n",
       "    </tr>\n",
       "    <tr>\n",
       "      <th>max</th>\n",
       "      <td>215.000</td>\n",
       "      <td>1.000</td>\n",
       "      <td>4.348700e+07</td>\n",
       "      <td>11.000</td>\n",
       "      <td>63.568</td>\n",
       "      <td>1.00</td>\n",
       "      <td>17.588</td>\n",
       "    </tr>\n",
       "  </tbody>\n",
       "</table>\n",
       "</div>"
      ],
      "text/plain": [
       "       auctionID  collusion         price  participants  reduction  difftimes  \\\n",
       "count    215.000    215.000  2.150000e+02       215.000    215.000     215.00   \n",
       "mean     108.000      0.563  3.537565e+06         2.726     10.062       0.54   \n",
       "std       62.209      0.497  6.059638e+06         1.344     12.915       0.50   \n",
       "min        1.000      0.000  6.480000e+03         2.000      0.500       0.00   \n",
       "25%       54.500      0.000  4.362397e+05         2.000      1.000       0.00   \n",
       "50%      108.000      1.000  1.093394e+06         2.000      1.654       1.00   \n",
       "75%      161.500      1.000  3.525825e+06         3.000     18.750       1.00   \n",
       "max      215.000      1.000  4.348700e+07        11.000     63.568       1.00   \n",
       "\n",
       "       logprice  \n",
       "count   215.000  \n",
       "mean     14.014  \n",
       "std       1.559  \n",
       "min       8.776  \n",
       "25%      12.986  \n",
       "50%      13.905  \n",
       "75%      15.076  \n",
       "max      17.588  "
      ]
     },
     "execution_count": 7,
     "metadata": {},
     "output_type": "execute_result"
    }
   ],
   "source": [
    "# The average of difftimes on the whole sample is greater than 50%\n",
    "\n",
    "dfcollu.describe().round(3)"
   ]
  },
  {
   "cell_type": "code",
   "execution_count": 8,
   "id": "2b6a79d9",
   "metadata": {},
   "outputs": [
    {
     "data": {
      "text/html": [
       "<div>\n",
       "<style scoped>\n",
       "    .dataframe tbody tr th:only-of-type {\n",
       "        vertical-align: middle;\n",
       "    }\n",
       "\n",
       "    .dataframe tbody tr th {\n",
       "        vertical-align: top;\n",
       "    }\n",
       "\n",
       "    .dataframe thead th {\n",
       "        text-align: right;\n",
       "    }\n",
       "</style>\n",
       "<table border=\"1\" class=\"dataframe\">\n",
       "  <thead>\n",
       "    <tr style=\"text-align: right;\">\n",
       "      <th></th>\n",
       "      <th>count</th>\n",
       "      <th>mean</th>\n",
       "      <th>std</th>\n",
       "      <th>min</th>\n",
       "      <th>25%</th>\n",
       "      <th>50%</th>\n",
       "      <th>75%</th>\n",
       "      <th>max</th>\n",
       "    </tr>\n",
       "    <tr>\n",
       "      <th>collusion</th>\n",
       "      <th></th>\n",
       "      <th></th>\n",
       "      <th></th>\n",
       "      <th></th>\n",
       "      <th></th>\n",
       "      <th></th>\n",
       "      <th></th>\n",
       "      <th></th>\n",
       "    </tr>\n",
       "  </thead>\n",
       "  <tbody>\n",
       "    <tr>\n",
       "      <th>0</th>\n",
       "      <td>94.0</td>\n",
       "      <td>3.500</td>\n",
       "      <td>1.677</td>\n",
       "      <td>2.0</td>\n",
       "      <td>2.0</td>\n",
       "      <td>3.0</td>\n",
       "      <td>4.0</td>\n",
       "      <td>11.0</td>\n",
       "    </tr>\n",
       "    <tr>\n",
       "      <th>1</th>\n",
       "      <td>121.0</td>\n",
       "      <td>2.124</td>\n",
       "      <td>0.458</td>\n",
       "      <td>2.0</td>\n",
       "      <td>2.0</td>\n",
       "      <td>2.0</td>\n",
       "      <td>2.0</td>\n",
       "      <td>5.0</td>\n",
       "    </tr>\n",
       "  </tbody>\n",
       "</table>\n",
       "</div>"
      ],
      "text/plain": [
       "           count   mean    std  min  25%  50%  75%   max\n",
       "collusion                                               \n",
       "0           94.0  3.500  1.677  2.0  2.0  3.0  4.0  11.0\n",
       "1          121.0  2.124  0.458  2.0  2.0  2.0  2.0   5.0"
      ]
     },
     "execution_count": 8,
     "metadata": {},
     "output_type": "execute_result"
    }
   ],
   "source": [
    "# Less than 30% of all auctions are with collusion\n",
    "\n",
    "dfcollu.groupby('collusion')['participants'].describe().round(3)"
   ]
  },
  {
   "cell_type": "code",
   "execution_count": 9,
   "id": "33392910",
   "metadata": {},
   "outputs": [
    {
     "data": {
      "text/plain": [
       "1    121\n",
       "0     94\n",
       "Name: collusion, dtype: int64"
      ]
     },
     "execution_count": 9,
     "metadata": {},
     "output_type": "execute_result"
    }
   ],
   "source": [
    "# Less than 30% of all auctions are with collusion\n",
    "\n",
    "dfcollu['collusion'].value_counts()"
   ]
  },
  {
   "cell_type": "code",
   "execution_count": 10,
   "id": "93df2583",
   "metadata": {},
   "outputs": [
    {
     "data": {
      "text/plain": [
       "PearsonRResult(statistic=-0.39409393764151646, pvalue=2.1112332126520262e-09)"
      ]
     },
     "execution_count": 10,
     "metadata": {},
     "output_type": "execute_result"
    }
   ],
   "source": [
    "# Pearson's correlation coefficient between logprice and reduction is negative, but statistically insignificant\n",
    "\n",
    "scipy.stats.pearsonr(logprice, reduction)"
   ]
  },
  {
   "cell_type": "code",
   "execution_count": 11,
   "id": "cabfc129",
   "metadata": {
    "scrolled": true
   },
   "outputs": [
    {
     "data": {
      "text/html": [
       "<div>\n",
       "<style scoped>\n",
       "    .dataframe tbody tr th:only-of-type {\n",
       "        vertical-align: middle;\n",
       "    }\n",
       "\n",
       "    .dataframe tbody tr th {\n",
       "        vertical-align: top;\n",
       "    }\n",
       "\n",
       "    .dataframe thead th {\n",
       "        text-align: right;\n",
       "    }\n",
       "</style>\n",
       "<table border=\"1\" class=\"dataframe\">\n",
       "  <thead>\n",
       "    <tr style=\"text-align: right;\">\n",
       "      <th>participants</th>\n",
       "      <th>2</th>\n",
       "      <th>3</th>\n",
       "      <th>4</th>\n",
       "      <th>5</th>\n",
       "      <th>6</th>\n",
       "      <th>7</th>\n",
       "      <th>8</th>\n",
       "      <th>10</th>\n",
       "      <th>11</th>\n",
       "    </tr>\n",
       "    <tr>\n",
       "      <th>collusion</th>\n",
       "      <th></th>\n",
       "      <th></th>\n",
       "      <th></th>\n",
       "      <th></th>\n",
       "      <th></th>\n",
       "      <th></th>\n",
       "      <th></th>\n",
       "      <th></th>\n",
       "      <th></th>\n",
       "    </tr>\n",
       "  </thead>\n",
       "  <tbody>\n",
       "    <tr>\n",
       "      <th>0</th>\n",
       "      <td>25</td>\n",
       "      <td>35</td>\n",
       "      <td>20</td>\n",
       "      <td>4</td>\n",
       "      <td>5</td>\n",
       "      <td>1</td>\n",
       "      <td>2</td>\n",
       "      <td>1</td>\n",
       "      <td>1</td>\n",
       "    </tr>\n",
       "    <tr>\n",
       "      <th>1</th>\n",
       "      <td>111</td>\n",
       "      <td>6</td>\n",
       "      <td>3</td>\n",
       "      <td>1</td>\n",
       "      <td>0</td>\n",
       "      <td>0</td>\n",
       "      <td>0</td>\n",
       "      <td>0</td>\n",
       "      <td>0</td>\n",
       "    </tr>\n",
       "  </tbody>\n",
       "</table>\n",
       "</div>"
      ],
      "text/plain": [
       "participants   2   3   4   5   6   7   8   10  11\n",
       "collusion                                        \n",
       "0              25  35  20   4   5   1   2   1   1\n",
       "1             111   6   3   1   0   0   0   0   0"
      ]
     },
     "execution_count": 11,
     "metadata": {},
     "output_type": "execute_result"
    }
   ],
   "source": [
    "# The mosaic graph shows that the greater majority of the auctions with collusion are the auctions with 2 participants\n",
    "# contingency table\n",
    "xTab = pd.crosstab(collusion, participants)\n",
    "xTab"
   ]
  },
  {
   "cell_type": "code",
   "execution_count": 12,
   "id": "9a60afde",
   "metadata": {},
   "outputs": [
    {
     "data": {
      "image/png": "[encoded data removed]",
      "text/plain": [
       "<Figure size 640x480 with 3 Axes>"
      ]
     },
     "metadata": {},
     "output_type": "display_data"
    }
   ],
   "source": [
    "# first argument - x-axis; second argument - y-axis\n",
    "#props = lambda key: {'color': 'gray'}\n",
    "mosaic(dfcollu, ['participants', 'collusion'])\n",
    "plt.show()"
   ]
  },
  {
   "cell_type": "markdown",
   "id": "5a2d53c1",
   "metadata": {},
   "source": [
    "# Task 2"
   ]
  },
  {
   "cell_type": "code",
   "execution_count": 13,
   "id": "6a9b5828",
   "metadata": {
    "scrolled": true
   },
   "outputs": [
    {
     "data": {
      "text/html": [
       "<div>\n",
       "<style scoped>\n",
       "    .dataframe tbody tr th:only-of-type {\n",
       "        vertical-align: middle;\n",
       "    }\n",
       "\n",
       "    .dataframe tbody tr th {\n",
       "        vertical-align: top;\n",
       "    }\n",
       "\n",
       "    .dataframe thead th {\n",
       "        text-align: right;\n",
       "    }\n",
       "</style>\n",
       "<table border=\"1\" class=\"dataframe\">\n",
       "  <thead>\n",
       "    <tr style=\"text-align: right;\">\n",
       "      <th></th>\n",
       "      <th>count</th>\n",
       "      <th>mean</th>\n",
       "      <th>std</th>\n",
       "      <th>min</th>\n",
       "      <th>25%</th>\n",
       "      <th>50%</th>\n",
       "      <th>75%</th>\n",
       "      <th>max</th>\n",
       "    </tr>\n",
       "    <tr>\n",
       "      <th>collusion</th>\n",
       "      <th></th>\n",
       "      <th></th>\n",
       "      <th></th>\n",
       "      <th></th>\n",
       "      <th></th>\n",
       "      <th></th>\n",
       "      <th></th>\n",
       "      <th></th>\n",
       "    </tr>\n",
       "  </thead>\n",
       "  <tbody>\n",
       "    <tr>\n",
       "      <th>0</th>\n",
       "      <td>94.0</td>\n",
       "      <td>3.500</td>\n",
       "      <td>1.677</td>\n",
       "      <td>2.0</td>\n",
       "      <td>2.0</td>\n",
       "      <td>3.0</td>\n",
       "      <td>4.0</td>\n",
       "      <td>11.0</td>\n",
       "    </tr>\n",
       "    <tr>\n",
       "      <th>1</th>\n",
       "      <td>121.0</td>\n",
       "      <td>2.124</td>\n",
       "      <td>0.458</td>\n",
       "      <td>2.0</td>\n",
       "      <td>2.0</td>\n",
       "      <td>2.0</td>\n",
       "      <td>2.0</td>\n",
       "      <td>5.0</td>\n",
       "    </tr>\n",
       "  </tbody>\n",
       "</table>\n",
       "</div>"
      ],
      "text/plain": [
       "           count   mean    std  min  25%  50%  75%   max\n",
       "collusion                                               \n",
       "0           94.0  3.500  1.677  2.0  2.0  3.0  4.0  11.0\n",
       "1          121.0  2.124  0.458  2.0  2.0  2.0  2.0   5.0"
      ]
     },
     "execution_count": 13,
     "metadata": {},
     "output_type": "execute_result"
    }
   ],
   "source": [
    "# The standard deviation of participants for the auctions without collusion is smaller (in absolute value) than the one for the auctions with collusion\n",
    "dfcollu.groupby('collusion')['participants'].describe().round(3)"
   ]
  },
  {
   "cell_type": "code",
   "execution_count": 14,
   "id": "cde8bc71",
   "metadata": {},
   "outputs": [
    {
     "data": {
      "text/plain": [
       "<AxesSubplot: title={'center': 'participants'}, xlabel='collusion'>"
      ]
     },
     "execution_count": 14,
     "metadata": {},
     "output_type": "execute_result"
    },
    {
     "data": {
      "image/png": "[encoded data removed]",
      "text/plain": [
       "<Figure size 640x480 with 1 Axes>"
      ]
     },
     "metadata": {},
     "output_type": "display_data"
    }
   ],
   "source": [
    "# boxplots of participants by groups\n",
    "dfcollu.boxplot(column=\"participants\", by=\"collusion\", grid=False)"
   ]
  },
  {
   "cell_type": "code",
   "execution_count": 15,
   "id": "ee446c39",
   "metadata": {},
   "outputs": [
    {
     "name": "stdout",
     "output_type": "stream",
     "text": [
      "Two-sample t-statistic =  0.0\n",
      "Two-sample p-value =  0.0\n"
     ]
    }
   ],
   "source": [
    "# compare the medians of TUCE\n",
    "t_Ucollu, pVal_Ucollu = scipy.stats.mannwhitneyu(dfcollu['collusion'][dfcollu.collusion==0],\n",
    "                                             dfcollu['collusion'][dfcollu.collusion==1])\n",
    "\n",
    "print(\"Two-sample t-statistic = \", round(t_Ucollu,9))\n",
    "print(\"Two-sample p-value = \", round(pVal_Ucollu,15))"
   ]
  },
  {
   "cell_type": "code",
   "execution_count": null,
   "id": "bcfbc6b1",
   "metadata": {},
   "outputs": [],
   "source": []
  },
  {
   "cell_type": "code",
   "execution_count": 16,
   "id": "1626aa33",
   "metadata": {},
   "outputs": [
    {
     "data": {
      "text/html": [
       "<div>\n",
       "<style scoped>\n",
       "    .dataframe tbody tr th:only-of-type {\n",
       "        vertical-align: middle;\n",
       "    }\n",
       "\n",
       "    .dataframe tbody tr th {\n",
       "        vertical-align: top;\n",
       "    }\n",
       "\n",
       "    .dataframe thead th {\n",
       "        text-align: right;\n",
       "    }\n",
       "</style>\n",
       "<table border=\"1\" class=\"dataframe\">\n",
       "  <thead>\n",
       "    <tr style=\"text-align: right;\">\n",
       "      <th></th>\n",
       "      <th>count</th>\n",
       "      <th>mean</th>\n",
       "      <th>std</th>\n",
       "      <th>min</th>\n",
       "      <th>25%</th>\n",
       "      <th>50%</th>\n",
       "      <th>75%</th>\n",
       "      <th>max</th>\n",
       "    </tr>\n",
       "    <tr>\n",
       "      <th>collusion</th>\n",
       "      <th></th>\n",
       "      <th></th>\n",
       "      <th></th>\n",
       "      <th></th>\n",
       "      <th></th>\n",
       "      <th></th>\n",
       "      <th></th>\n",
       "      <th></th>\n",
       "    </tr>\n",
       "  </thead>\n",
       "  <tbody>\n",
       "    <tr>\n",
       "      <th>0</th>\n",
       "      <td>94.0</td>\n",
       "      <td>12.978</td>\n",
       "      <td>1.275</td>\n",
       "      <td>8.776</td>\n",
       "      <td>12.061</td>\n",
       "      <td>12.955</td>\n",
       "      <td>13.797</td>\n",
       "      <td>16.391</td>\n",
       "    </tr>\n",
       "    <tr>\n",
       "      <th>1</th>\n",
       "      <td>121.0</td>\n",
       "      <td>14.819</td>\n",
       "      <td>1.259</td>\n",
       "      <td>11.497</td>\n",
       "      <td>13.804</td>\n",
       "      <td>14.811</td>\n",
       "      <td>15.775</td>\n",
       "      <td>17.588</td>\n",
       "    </tr>\n",
       "  </tbody>\n",
       "</table>\n",
       "</div>"
      ],
      "text/plain": [
       "           count    mean    std     min     25%     50%     75%     max\n",
       "collusion                                                              \n",
       "0           94.0  12.978  1.275   8.776  12.061  12.955  13.797  16.391\n",
       "1          121.0  14.819  1.259  11.497  13.804  14.811  15.775  17.588"
      ]
     },
     "execution_count": 16,
     "metadata": {},
     "output_type": "execute_result"
    }
   ],
   "source": [
    "# The median of logprice for the auctions with collusion is greater than 14\n",
    "dfcollu.groupby('collusion')['logprice'].describe().round(3)"
   ]
  },
  {
   "cell_type": "code",
   "execution_count": 17,
   "id": "57ece39f",
   "metadata": {},
   "outputs": [
    {
     "data": {
      "text/plain": [
       "<AxesSubplot: title={'center': 'logprice'}, xlabel='collusion'>"
      ]
     },
     "execution_count": 17,
     "metadata": {},
     "output_type": "execute_result"
    },
    {
     "data": {
      "image/png": "[encoded data removed]",
      "text/plain": [
       "<Figure size 640x480 with 1 Axes>"
      ]
     },
     "metadata": {},
     "output_type": "display_data"
    }
   ],
   "source": [
    "# boxplots of Logprice by groups\n",
    "dfcollu.boxplot(column=\"logprice\", by=\"collusion\", grid=True)"
   ]
  },
  {
   "cell_type": "code",
   "execution_count": 18,
   "id": "640939f0",
   "metadata": {},
   "outputs": [
    {
     "name": "stdout",
     "output_type": "stream",
     "text": [
      "Variance of Group0 = 1.625\n",
      "Variance of Group1 = 1.584\n",
      "Two-sample t-statistic = -10.56\n",
      "Two-sample p-value = 0.0\n",
      "equal_var = False\n"
     ]
    }
   ],
   "source": [
    "# The mean values of logprice in the two groups of auctions are statistically different\n",
    "\n",
    "# compare means of TUCE\n",
    "eqVarcollusion = False\n",
    "t_twotuce, pVal_twotuce = scipy.stats.ttest_ind(dfcollu['logprice'][dfcollu.collusion==0],\n",
    "                                             dfcollu['logprice'][dfcollu.collusion==1], equal_var=eqVarcollusion)\n",
    "\n",
    "print(\"Variance of Group0 =\", round(np.var(dfcollu['logprice'][dfcollu.collusion==0], ddof=1),3))\n",
    "print(\"Variance of Group1 =\", round(np.var(dfcollu['logprice'][dfcollu.collusion==1], ddof=1),3))\n",
    "print(\"Two-sample t-statistic =\", round(t_twotuce,3))\n",
    "print(\"Two-sample p-value =\", round(pVal_twotuce,3))\n",
    "print(\"equal_var =\", eqVarcollusion)"
   ]
  },
  {
   "cell_type": "code",
   "execution_count": 19,
   "id": "a96b6a67",
   "metadata": {},
   "outputs": [
    {
     "data": {
      "text/html": [
       "<div>\n",
       "<style scoped>\n",
       "    .dataframe tbody tr th:only-of-type {\n",
       "        vertical-align: middle;\n",
       "    }\n",
       "\n",
       "    .dataframe tbody tr th {\n",
       "        vertical-align: top;\n",
       "    }\n",
       "\n",
       "    .dataframe thead th {\n",
       "        text-align: right;\n",
       "    }\n",
       "</style>\n",
       "<table border=\"1\" class=\"dataframe\">\n",
       "  <thead>\n",
       "    <tr style=\"text-align: right;\">\n",
       "      <th></th>\n",
       "      <th>count</th>\n",
       "      <th>mean</th>\n",
       "      <th>std</th>\n",
       "      <th>min</th>\n",
       "      <th>25%</th>\n",
       "      <th>50%</th>\n",
       "      <th>75%</th>\n",
       "      <th>max</th>\n",
       "    </tr>\n",
       "    <tr>\n",
       "      <th>collusion</th>\n",
       "      <th></th>\n",
       "      <th></th>\n",
       "      <th></th>\n",
       "      <th></th>\n",
       "      <th></th>\n",
       "      <th></th>\n",
       "      <th></th>\n",
       "      <th></th>\n",
       "    </tr>\n",
       "  </thead>\n",
       "  <tbody>\n",
       "    <tr>\n",
       "      <th>0</th>\n",
       "      <td>94.0</td>\n",
       "      <td>12.978</td>\n",
       "      <td>1.275</td>\n",
       "      <td>8.776</td>\n",
       "      <td>12.061</td>\n",
       "      <td>12.955</td>\n",
       "      <td>13.797</td>\n",
       "      <td>16.391</td>\n",
       "    </tr>\n",
       "    <tr>\n",
       "      <th>1</th>\n",
       "      <td>121.0</td>\n",
       "      <td>14.819</td>\n",
       "      <td>1.259</td>\n",
       "      <td>11.497</td>\n",
       "      <td>13.804</td>\n",
       "      <td>14.811</td>\n",
       "      <td>15.775</td>\n",
       "      <td>17.588</td>\n",
       "    </tr>\n",
       "  </tbody>\n",
       "</table>\n",
       "</div>"
      ],
      "text/plain": [
       "           count    mean    std     min     25%     50%     75%     max\n",
       "collusion                                                              \n",
       "0           94.0  12.978  1.275   8.776  12.061  12.955  13.797  16.391\n",
       "1          121.0  14.819  1.259  11.497  13.804  14.811  15.775  17.588"
      ]
     },
     "execution_count": 19,
     "metadata": {},
     "output_type": "execute_result"
    }
   ],
   "source": [
    "# The standard deviation of logprice for the auctions without collusion is smaller than 1 \n",
    "\n",
    "dfcollu.groupby('collusion')['logprice'].describe().round(3)"
   ]
  },
  {
   "cell_type": "code",
   "execution_count": 20,
   "id": "41af0d76",
   "metadata": {},
   "outputs": [
    {
     "data": {
      "text/html": [
       "<div>\n",
       "<style scoped>\n",
       "    .dataframe tbody tr th:only-of-type {\n",
       "        vertical-align: middle;\n",
       "    }\n",
       "\n",
       "    .dataframe tbody tr th {\n",
       "        vertical-align: top;\n",
       "    }\n",
       "\n",
       "    .dataframe thead th {\n",
       "        text-align: right;\n",
       "    }\n",
       "</style>\n",
       "<table border=\"1\" class=\"dataframe\">\n",
       "  <thead>\n",
       "    <tr style=\"text-align: right;\">\n",
       "      <th></th>\n",
       "      <th>count</th>\n",
       "      <th>mean</th>\n",
       "      <th>std</th>\n",
       "      <th>min</th>\n",
       "      <th>25%</th>\n",
       "      <th>50%</th>\n",
       "      <th>75%</th>\n",
       "      <th>max</th>\n",
       "    </tr>\n",
       "    <tr>\n",
       "      <th>collusion</th>\n",
       "      <th></th>\n",
       "      <th></th>\n",
       "      <th></th>\n",
       "      <th></th>\n",
       "      <th></th>\n",
       "      <th></th>\n",
       "      <th></th>\n",
       "      <th></th>\n",
       "    </tr>\n",
       "  </thead>\n",
       "  <tbody>\n",
       "    <tr>\n",
       "      <th>0</th>\n",
       "      <td>94.0</td>\n",
       "      <td>0.691</td>\n",
       "      <td>0.464</td>\n",
       "      <td>0.0</td>\n",
       "      <td>0.0</td>\n",
       "      <td>1.0</td>\n",
       "      <td>1.0</td>\n",
       "      <td>1.0</td>\n",
       "    </tr>\n",
       "    <tr>\n",
       "      <th>1</th>\n",
       "      <td>121.0</td>\n",
       "      <td>0.421</td>\n",
       "      <td>0.496</td>\n",
       "      <td>0.0</td>\n",
       "      <td>0.0</td>\n",
       "      <td>0.0</td>\n",
       "      <td>1.0</td>\n",
       "      <td>1.0</td>\n",
       "    </tr>\n",
       "  </tbody>\n",
       "</table>\n",
       "</div>"
      ],
      "text/plain": [
       "           count   mean    std  min  25%  50%  75%  max\n",
       "collusion                                              \n",
       "0           94.0  0.691  0.464  0.0  0.0  1.0  1.0  1.0\n",
       "1          121.0  0.421  0.496  0.0  0.0  0.0  1.0  1.0"
      ]
     },
     "execution_count": 20,
     "metadata": {},
     "output_type": "execute_result"
    }
   ],
   "source": [
    "dfcollu.groupby('collusion')['difftimes'].describe().round(3)"
   ]
  },
  {
   "cell_type": "code",
   "execution_count": 21,
   "id": "8fe9644c",
   "metadata": {
    "scrolled": true
   },
   "outputs": [
    {
     "data": {
      "text/plain": [
       "<AxesSubplot: title={'center': 'difftimes'}, xlabel='collusion'>"
      ]
     },
     "execution_count": 21,
     "metadata": {},
     "output_type": "execute_result"
    },
    {
     "data": {
      "image/png": "[encoded data removed]",
      "text/plain": [
       "<Figure size 640x480 with 1 Axes>"
      ]
     },
     "metadata": {},
     "output_type": "display_data"
    }
   ],
   "source": [
    "dfcollu.boxplot(column='difftimes', by='collusion', grid=True)"
   ]
  },
  {
   "cell_type": "code",
   "execution_count": 31,
   "id": "0f3bc796",
   "metadata": {},
   "outputs": [
    {
     "name": "stdout",
     "output_type": "stream",
     "text": [
      "Variance of Group0 = 0.216\n",
      "Variance of Group1 = 0.246\n",
      "Two-sample t-statistic = 4.105\n",
      "Two-sample p-value = 0.0\n",
      "equal_var = False\n"
     ]
    }
   ],
   "source": [
    "# The mean values of difftimes in the two groups of auctions are not statistically different\n",
    "# compare means of TUCE\n",
    "eqVarcollusion = False\n",
    "t_twotuce, pVal_twotuce = scipy.stats.ttest_ind(dfcollu['difftimes'][dfcollu.collusion==0],\n",
    "                                             dfcollu['difftimes'][dfcollu.collusion==1], equal_var=eqVarcollusion)\n",
    "\n",
    "print(\"Variance of Group0 =\", round(np.var(dfcollu['difftimes'][dfcollu.collusion==0], ddof=1),3))\n",
    "print(\"Variance of Group1 =\", round(np.var(dfcollu['difftimes'][dfcollu.collusion==1], ddof=1),3))\n",
    "print(\"Two-sample t-statistic =\", round(t_twotuce,3))\n",
    "print(\"Two-sample p-value =\", round(pVal_twotuce,3))\n",
    "print(\"equal_var =\", eqVarcollusion)"
   ]
  },
  {
   "cell_type": "code",
   "execution_count": 32,
   "id": "fdc2dde6",
   "metadata": {},
   "outputs": [
    {
     "data": {
      "text/html": [
       "<div>\n",
       "<style scoped>\n",
       "    .dataframe tbody tr th:only-of-type {\n",
       "        vertical-align: middle;\n",
       "    }\n",
       "\n",
       "    .dataframe tbody tr th {\n",
       "        vertical-align: top;\n",
       "    }\n",
       "\n",
       "    .dataframe thead th {\n",
       "        text-align: right;\n",
       "    }\n",
       "</style>\n",
       "<table border=\"1\" class=\"dataframe\">\n",
       "  <thead>\n",
       "    <tr style=\"text-align: right;\">\n",
       "      <th></th>\n",
       "      <th>count</th>\n",
       "      <th>mean</th>\n",
       "      <th>std</th>\n",
       "      <th>min</th>\n",
       "      <th>25%</th>\n",
       "      <th>50%</th>\n",
       "      <th>75%</th>\n",
       "      <th>max</th>\n",
       "    </tr>\n",
       "    <tr>\n",
       "      <th>collusion</th>\n",
       "      <th></th>\n",
       "      <th></th>\n",
       "      <th></th>\n",
       "      <th></th>\n",
       "      <th></th>\n",
       "      <th></th>\n",
       "      <th></th>\n",
       "      <th></th>\n",
       "    </tr>\n",
       "  </thead>\n",
       "  <tbody>\n",
       "    <tr>\n",
       "      <th>0</th>\n",
       "      <td>94.0</td>\n",
       "      <td>21.140</td>\n",
       "      <td>12.604</td>\n",
       "      <td>1.714</td>\n",
       "      <td>11.357</td>\n",
       "      <td>20.003</td>\n",
       "      <td>28.786</td>\n",
       "      <td>63.568</td>\n",
       "    </tr>\n",
       "    <tr>\n",
       "      <th>1</th>\n",
       "      <td>121.0</td>\n",
       "      <td>1.455</td>\n",
       "      <td>1.865</td>\n",
       "      <td>0.500</td>\n",
       "      <td>1.000</td>\n",
       "      <td>1.000</td>\n",
       "      <td>1.002</td>\n",
       "      <td>15.668</td>\n",
       "    </tr>\n",
       "  </tbody>\n",
       "</table>\n",
       "</div>"
      ],
      "text/plain": [
       "           count    mean     std    min     25%     50%     75%     max\n",
       "collusion                                                              \n",
       "0           94.0  21.140  12.604  1.714  11.357  20.003  28.786  63.568\n",
       "1          121.0   1.455   1.865  0.500   1.000   1.000   1.002  15.668"
      ]
     },
     "execution_count": 32,
     "metadata": {},
     "output_type": "execute_result"
    }
   ],
   "source": [
    "# The minimum value of reduction for the auctions without collusion is 0.5\n",
    "\n",
    "dfcollu.groupby('collusion')['reduction'].describe().round(3)"
   ]
  },
  {
   "cell_type": "markdown",
   "id": "a480ee1c",
   "metadata": {},
   "source": [
    "# Task 3\n",
    "\n",
    "Estimate the following logit-regression:"
   ]
  },
  {
   "cell_type": "code",
   "execution_count": 33,
   "id": "d5c6ab95",
   "metadata": {},
   "outputs": [
    {
     "name": "stdout",
     "output_type": "stream",
     "text": [
      "Optimization terminated successfully.\n",
      "         Current function value: 0.120384\n",
      "         Iterations 10\n"
     ]
    },
    {
     "data": {
      "text/html": [
       "<table class=\"simpletable\">\n",
       "<caption>Logit Regression Results</caption>\n",
       "<tr>\n",
       "  <th>Dep. Variable:</th>       <td>collusion</td>    <th>  No. Observations:  </th>  <td>   215</td>  \n",
       "</tr>\n",
       "<tr>\n",
       "  <th>Model:</th>                 <td>Logit</td>      <th>  Df Residuals:      </th>  <td>   210</td>  \n",
       "</tr>\n",
       "<tr>\n",
       "  <th>Method:</th>                 <td>MLE</td>       <th>  Df Model:          </th>  <td>     4</td>  \n",
       "</tr>\n",
       "<tr>\n",
       "  <th>Date:</th>            <td>Sun, 17 Dec 2023</td> <th>  Pseudo R-squ.:     </th>  <td>0.8243</td>  \n",
       "</tr>\n",
       "<tr>\n",
       "  <th>Time:</th>                <td>12:30:48</td>     <th>  Log-Likelihood:    </th> <td> -25.883</td> \n",
       "</tr>\n",
       "<tr>\n",
       "  <th>converged:</th>             <td>True</td>       <th>  LL-Null:           </th> <td> -147.33</td> \n",
       "</tr>\n",
       "<tr>\n",
       "  <th>Covariance Type:</th>     <td>nonrobust</td>    <th>  LLR p-value:       </th> <td>2.215e-51</td>\n",
       "</tr>\n",
       "</table>\n",
       "<table class=\"simpletable\">\n",
       "<tr>\n",
       "        <td></td>          <th>coef</th>     <th>std err</th>      <th>z</th>      <th>P>|z|</th>  <th>[0.025</th>    <th>0.975]</th>  \n",
       "</tr>\n",
       "<tr>\n",
       "  <th>Intercept</th>    <td>   -7.5876</td> <td>    4.657</td> <td>   -1.629</td> <td> 0.103</td> <td>  -16.715</td> <td>    1.539</td>\n",
       "</tr>\n",
       "<tr>\n",
       "  <th>logprice</th>     <td>    1.0538</td> <td>    0.336</td> <td>    3.135</td> <td> 0.002</td> <td>    0.395</td> <td>    1.713</td>\n",
       "</tr>\n",
       "<tr>\n",
       "  <th>participants</th> <td>   -1.2682</td> <td>    0.538</td> <td>   -2.356</td> <td> 0.018</td> <td>   -2.323</td> <td>   -0.213</td>\n",
       "</tr>\n",
       "<tr>\n",
       "  <th>reduction</th>    <td>   -0.4139</td> <td>    0.093</td> <td>   -4.437</td> <td> 0.000</td> <td>   -0.597</td> <td>   -0.231</td>\n",
       "</tr>\n",
       "<tr>\n",
       "  <th>difftimes</th>    <td>   -1.6604</td> <td>    0.851</td> <td>   -1.951</td> <td> 0.051</td> <td>   -3.328</td> <td>    0.007</td>\n",
       "</tr>\n",
       "</table><br/><br/>Possibly complete quasi-separation: A fraction 0.15 of observations can be<br/>perfectly predicted. This might indicate that there is complete<br/>quasi-separation. In this case some parameters will not be identified."
      ],
      "text/plain": [
       "<class 'statsmodels.iolib.summary.Summary'>\n",
       "\"\"\"\n",
       "                           Logit Regression Results                           \n",
       "==============================================================================\n",
       "Dep. Variable:              collusion   No. Observations:                  215\n",
       "Model:                          Logit   Df Residuals:                      210\n",
       "Method:                           MLE   Df Model:                            4\n",
       "Date:                Sun, 17 Dec 2023   Pseudo R-squ.:                  0.8243\n",
       "Time:                        12:30:48   Log-Likelihood:                -25.883\n",
       "converged:                       True   LL-Null:                       -147.33\n",
       "Covariance Type:            nonrobust   LLR p-value:                 2.215e-51\n",
       "================================================================================\n",
       "                   coef    std err          z      P>|z|      [0.025      0.975]\n",
       "--------------------------------------------------------------------------------\n",
       "Intercept       -7.5876      4.657     -1.629      0.103     -16.715       1.539\n",
       "logprice         1.0538      0.336      3.135      0.002       0.395       1.713\n",
       "participants    -1.2682      0.538     -2.356      0.018      -2.323      -0.213\n",
       "reduction       -0.4139      0.093     -4.437      0.000      -0.597      -0.231\n",
       "difftimes       -1.6604      0.851     -1.951      0.051      -3.328       0.007\n",
       "================================================================================\n",
       "\n",
       "Possibly complete quasi-separation: A fraction 0.15 of observations can be\n",
       "perfectly predicted. This might indicate that there is complete\n",
       "quasi-separation. In this case some parameters will not be identified.\n",
       "\"\"\""
      ]
     },
     "execution_count": 33,
     "metadata": {},
     "output_type": "execute_result"
    }
   ],
   "source": [
    "# estimate Model 1\n",
    "model1 = smFrmApi.logit('collusion ~ logprice + participants + reduction + difftimes', dfcollu).fit()\n",
    "model1.summary()"
   ]
  },
  {
   "cell_type": "code",
   "execution_count": 34,
   "id": "01d3366e",
   "metadata": {},
   "outputs": [
    {
     "name": "stdout",
     "output_type": "stream",
     "text": [
      "\n",
      " --- The Jarque-Bera normality test for Residuals of the Logit model---\n",
      "                            value\n",
      "chi^2 test statistic  2447.051148\n",
      "chi^2 test p-value       0.000000\n"
     ]
    },
    {
     "data": {
      "image/png": "[encoded data removed]",
      "text/plain": [
       "<Figure size 640x480 with 1 Axes>"
      ]
     },
     "metadata": {},
     "output_type": "display_data"
    },
    {
     "data": {
      "image/png": "[encoded data removed]",
      "text/plain": [
       "<Figure size 640x480 with 1 Axes>"
      ]
     },
     "metadata": {},
     "output_type": "display_data"
    }
   ],
   "source": [
    "# check the residuals of Model 2\n",
    "myHist(model1.resid_response, 'Residuals of the Logit model')"
   ]
  },
  {
   "cell_type": "markdown",
   "id": "14b29280",
   "metadata": {},
   "source": [
    "# Task 4\n",
    "\n",
    "Study marginal effects at the average point for the estimated logit-model. Plot probability response curves for difftimes as related to participants."
   ]
  },
  {
   "cell_type": "code",
   "execution_count": 35,
   "id": "58c35ab7",
   "metadata": {},
   "outputs": [
    {
     "name": "stdout",
     "output_type": "stream",
     "text": [
      "        Logit Marginal Effects       \n",
      "=====================================\n",
      "Dep. Variable:              collusion\n",
      "Method:                          dydx\n",
      "At:                              mean\n",
      "================================================================================\n",
      "                  dy/dx    std err          z      P>|z|      [0.025      0.975]\n",
      "--------------------------------------------------------------------------------\n",
      "logprice         0.1736      0.099      1.753      0.080      -0.020       0.368\n",
      "participants    -0.2089      0.117     -1.783      0.075      -0.439       0.021\n",
      "reduction       -0.0682      0.018     -3.753      0.000      -0.104      -0.033\n",
      "difftimes       -0.2735      0.185     -1.478      0.140      -0.636       0.089\n",
      "================================================================================\n"
     ]
    }
   ],
   "source": [
    "# marginal effects at the average point\n",
    "print(model1.get_margeff(at='mean').summary()) "
   ]
  },
  {
   "cell_type": "code",
   "execution_count": null,
   "id": "47c27701",
   "metadata": {},
   "outputs": [],
   "source": []
  },
  {
   "cell_type": "code",
   "execution_count": 36,
   "id": "ceaed32d",
   "metadata": {},
   "outputs": [],
   "source": [
    "dfPRC = pd.DataFrame(np.linspace(2, 11, num=50), columns=['participants'])"
   ]
  },
  {
   "cell_type": "code",
   "execution_count": 37,
   "id": "ba61737b",
   "metadata": {
    "tags": []
   },
   "outputs": [
    {
     "data": {
      "text/html": [
       "<div>\n",
       "<style scoped>\n",
       "    .dataframe tbody tr th:only-of-type {\n",
       "        vertical-align: middle;\n",
       "    }\n",
       "\n",
       "    .dataframe tbody tr th {\n",
       "        vertical-align: top;\n",
       "    }\n",
       "\n",
       "    .dataframe thead th {\n",
       "        text-align: right;\n",
       "    }\n",
       "</style>\n",
       "<table border=\"1\" class=\"dataframe\">\n",
       "  <thead>\n",
       "    <tr style=\"text-align: right;\">\n",
       "      <th></th>\n",
       "      <th>participants</th>\n",
       "    </tr>\n",
       "  </thead>\n",
       "  <tbody>\n",
       "    <tr>\n",
       "      <th>0</th>\n",
       "      <td>2.000000</td>\n",
       "    </tr>\n",
       "    <tr>\n",
       "      <th>1</th>\n",
       "      <td>2.183673</td>\n",
       "    </tr>\n",
       "    <tr>\n",
       "      <th>2</th>\n",
       "      <td>2.367347</td>\n",
       "    </tr>\n",
       "    <tr>\n",
       "      <th>3</th>\n",
       "      <td>2.551020</td>\n",
       "    </tr>\n",
       "    <tr>\n",
       "      <th>4</th>\n",
       "      <td>2.734694</td>\n",
       "    </tr>\n",
       "    <tr>\n",
       "      <th>5</th>\n",
       "      <td>2.918367</td>\n",
       "    </tr>\n",
       "    <tr>\n",
       "      <th>6</th>\n",
       "      <td>3.102041</td>\n",
       "    </tr>\n",
       "    <tr>\n",
       "      <th>7</th>\n",
       "      <td>3.285714</td>\n",
       "    </tr>\n",
       "    <tr>\n",
       "      <th>8</th>\n",
       "      <td>3.469388</td>\n",
       "    </tr>\n",
       "    <tr>\n",
       "      <th>9</th>\n",
       "      <td>3.653061</td>\n",
       "    </tr>\n",
       "    <tr>\n",
       "      <th>10</th>\n",
       "      <td>3.836735</td>\n",
       "    </tr>\n",
       "    <tr>\n",
       "      <th>11</th>\n",
       "      <td>4.020408</td>\n",
       "    </tr>\n",
       "    <tr>\n",
       "      <th>12</th>\n",
       "      <td>4.204082</td>\n",
       "    </tr>\n",
       "    <tr>\n",
       "      <th>13</th>\n",
       "      <td>4.387755</td>\n",
       "    </tr>\n",
       "    <tr>\n",
       "      <th>14</th>\n",
       "      <td>4.571429</td>\n",
       "    </tr>\n",
       "    <tr>\n",
       "      <th>15</th>\n",
       "      <td>4.755102</td>\n",
       "    </tr>\n",
       "    <tr>\n",
       "      <th>16</th>\n",
       "      <td>4.938776</td>\n",
       "    </tr>\n",
       "    <tr>\n",
       "      <th>17</th>\n",
       "      <td>5.122449</td>\n",
       "    </tr>\n",
       "    <tr>\n",
       "      <th>18</th>\n",
       "      <td>5.306122</td>\n",
       "    </tr>\n",
       "    <tr>\n",
       "      <th>19</th>\n",
       "      <td>5.489796</td>\n",
       "    </tr>\n",
       "    <tr>\n",
       "      <th>20</th>\n",
       "      <td>5.673469</td>\n",
       "    </tr>\n",
       "    <tr>\n",
       "      <th>21</th>\n",
       "      <td>5.857143</td>\n",
       "    </tr>\n",
       "    <tr>\n",
       "      <th>22</th>\n",
       "      <td>6.040816</td>\n",
       "    </tr>\n",
       "    <tr>\n",
       "      <th>23</th>\n",
       "      <td>6.224490</td>\n",
       "    </tr>\n",
       "    <tr>\n",
       "      <th>24</th>\n",
       "      <td>6.408163</td>\n",
       "    </tr>\n",
       "    <tr>\n",
       "      <th>25</th>\n",
       "      <td>6.591837</td>\n",
       "    </tr>\n",
       "    <tr>\n",
       "      <th>26</th>\n",
       "      <td>6.775510</td>\n",
       "    </tr>\n",
       "    <tr>\n",
       "      <th>27</th>\n",
       "      <td>6.959184</td>\n",
       "    </tr>\n",
       "    <tr>\n",
       "      <th>28</th>\n",
       "      <td>7.142857</td>\n",
       "    </tr>\n",
       "    <tr>\n",
       "      <th>29</th>\n",
       "      <td>7.326531</td>\n",
       "    </tr>\n",
       "    <tr>\n",
       "      <th>30</th>\n",
       "      <td>7.510204</td>\n",
       "    </tr>\n",
       "    <tr>\n",
       "      <th>31</th>\n",
       "      <td>7.693878</td>\n",
       "    </tr>\n",
       "    <tr>\n",
       "      <th>32</th>\n",
       "      <td>7.877551</td>\n",
       "    </tr>\n",
       "    <tr>\n",
       "      <th>33</th>\n",
       "      <td>8.061224</td>\n",
       "    </tr>\n",
       "    <tr>\n",
       "      <th>34</th>\n",
       "      <td>8.244898</td>\n",
       "    </tr>\n",
       "    <tr>\n",
       "      <th>35</th>\n",
       "      <td>8.428571</td>\n",
       "    </tr>\n",
       "    <tr>\n",
       "      <th>36</th>\n",
       "      <td>8.612245</td>\n",
       "    </tr>\n",
       "    <tr>\n",
       "      <th>37</th>\n",
       "      <td>8.795918</td>\n",
       "    </tr>\n",
       "    <tr>\n",
       "      <th>38</th>\n",
       "      <td>8.979592</td>\n",
       "    </tr>\n",
       "    <tr>\n",
       "      <th>39</th>\n",
       "      <td>9.163265</td>\n",
       "    </tr>\n",
       "    <tr>\n",
       "      <th>40</th>\n",
       "      <td>9.346939</td>\n",
       "    </tr>\n",
       "    <tr>\n",
       "      <th>41</th>\n",
       "      <td>9.530612</td>\n",
       "    </tr>\n",
       "    <tr>\n",
       "      <th>42</th>\n",
       "      <td>9.714286</td>\n",
       "    </tr>\n",
       "    <tr>\n",
       "      <th>43</th>\n",
       "      <td>9.897959</td>\n",
       "    </tr>\n",
       "    <tr>\n",
       "      <th>44</th>\n",
       "      <td>10.081633</td>\n",
       "    </tr>\n",
       "    <tr>\n",
       "      <th>45</th>\n",
       "      <td>10.265306</td>\n",
       "    </tr>\n",
       "    <tr>\n",
       "      <th>46</th>\n",
       "      <td>10.448980</td>\n",
       "    </tr>\n",
       "    <tr>\n",
       "      <th>47</th>\n",
       "      <td>10.632653</td>\n",
       "    </tr>\n",
       "    <tr>\n",
       "      <th>48</th>\n",
       "      <td>10.816327</td>\n",
       "    </tr>\n",
       "    <tr>\n",
       "      <th>49</th>\n",
       "      <td>11.000000</td>\n",
       "    </tr>\n",
       "  </tbody>\n",
       "</table>\n",
       "</div>"
      ],
      "text/plain": [
       "    participants\n",
       "0       2.000000\n",
       "1       2.183673\n",
       "2       2.367347\n",
       "3       2.551020\n",
       "4       2.734694\n",
       "5       2.918367\n",
       "6       3.102041\n",
       "7       3.285714\n",
       "8       3.469388\n",
       "9       3.653061\n",
       "10      3.836735\n",
       "11      4.020408\n",
       "12      4.204082\n",
       "13      4.387755\n",
       "14      4.571429\n",
       "15      4.755102\n",
       "16      4.938776\n",
       "17      5.122449\n",
       "18      5.306122\n",
       "19      5.489796\n",
       "20      5.673469\n",
       "21      5.857143\n",
       "22      6.040816\n",
       "23      6.224490\n",
       "24      6.408163\n",
       "25      6.591837\n",
       "26      6.775510\n",
       "27      6.959184\n",
       "28      7.142857\n",
       "29      7.326531\n",
       "30      7.510204\n",
       "31      7.693878\n",
       "32      7.877551\n",
       "33      8.061224\n",
       "34      8.244898\n",
       "35      8.428571\n",
       "36      8.612245\n",
       "37      8.795918\n",
       "38      8.979592\n",
       "39      9.163265\n",
       "40      9.346939\n",
       "41      9.530612\n",
       "42      9.714286\n",
       "43      9.897959\n",
       "44     10.081633\n",
       "45     10.265306\n",
       "46     10.448980\n",
       "47     10.632653\n",
       "48     10.816327\n",
       "49     11.000000"
      ]
     },
     "execution_count": 37,
     "metadata": {},
     "output_type": "execute_result"
    }
   ],
   "source": [
    "dfPRC"
   ]
  },
  {
   "cell_type": "code",
   "execution_count": 38,
   "id": "eae49db7",
   "metadata": {},
   "outputs": [
    {
     "data": {
      "text/html": [
       "<div>\n",
       "<style scoped>\n",
       "    .dataframe tbody tr th:only-of-type {\n",
       "        vertical-align: middle;\n",
       "    }\n",
       "\n",
       "    .dataframe tbody tr th {\n",
       "        vertical-align: top;\n",
       "    }\n",
       "\n",
       "    .dataframe thead th {\n",
       "        text-align: right;\n",
       "    }\n",
       "</style>\n",
       "<table border=\"1\" class=\"dataframe\">\n",
       "  <thead>\n",
       "    <tr style=\"text-align: right;\">\n",
       "      <th></th>\n",
       "      <th>participants</th>\n",
       "      <th>reduction</th>\n",
       "      <th>logprice</th>\n",
       "      <th>difftimes</th>\n",
       "    </tr>\n",
       "  </thead>\n",
       "  <tbody>\n",
       "    <tr>\n",
       "      <th>0</th>\n",
       "      <td>2.000000</td>\n",
       "      <td>10.061519</td>\n",
       "      <td>14.014219</td>\n",
       "      <td>0</td>\n",
       "    </tr>\n",
       "    <tr>\n",
       "      <th>1</th>\n",
       "      <td>2.183673</td>\n",
       "      <td>10.061519</td>\n",
       "      <td>14.014219</td>\n",
       "      <td>0</td>\n",
       "    </tr>\n",
       "    <tr>\n",
       "      <th>2</th>\n",
       "      <td>2.367347</td>\n",
       "      <td>10.061519</td>\n",
       "      <td>14.014219</td>\n",
       "      <td>0</td>\n",
       "    </tr>\n",
       "    <tr>\n",
       "      <th>3</th>\n",
       "      <td>2.551020</td>\n",
       "      <td>10.061519</td>\n",
       "      <td>14.014219</td>\n",
       "      <td>0</td>\n",
       "    </tr>\n",
       "    <tr>\n",
       "      <th>4</th>\n",
       "      <td>2.734694</td>\n",
       "      <td>10.061519</td>\n",
       "      <td>14.014219</td>\n",
       "      <td>0</td>\n",
       "    </tr>\n",
       "  </tbody>\n",
       "</table>\n",
       "</div>"
      ],
      "text/plain": [
       "   participants  reduction   logprice  difftimes\n",
       "0      2.000000  10.061519  14.014219          0\n",
       "1      2.183673  10.061519  14.014219          0\n",
       "2      2.367347  10.061519  14.014219          0\n",
       "3      2.551020  10.061519  14.014219          0\n",
       "4      2.734694  10.061519  14.014219          0"
      ]
     },
     "execution_count": 38,
     "metadata": {},
     "output_type": "execute_result"
    }
   ],
   "source": [
    "# data frame for students with difftime=0\n",
    "dfPSI0 = dfPRC.copy(deep=True)\n",
    "dfPSI0['reduction'] = np.mean(reduction)\n",
    "dfPSI0['logprice'] = np.mean(logprice)\n",
    "dfPSI0['difftimes'] = 0\n",
    "dfPSI0.head()"
   ]
  },
  {
   "cell_type": "code",
   "execution_count": 39,
   "id": "180363dd",
   "metadata": {},
   "outputs": [],
   "source": [
    "# predictions for students with PSI=0\n",
    "predcolludifftime0 = model1.predict(dfPSI0)"
   ]
  },
  {
   "cell_type": "code",
   "execution_count": 40,
   "id": "112676b1",
   "metadata": {},
   "outputs": [
    {
     "data": {
      "text/html": [
       "<div>\n",
       "<style scoped>\n",
       "    .dataframe tbody tr th:only-of-type {\n",
       "        vertical-align: middle;\n",
       "    }\n",
       "\n",
       "    .dataframe tbody tr th {\n",
       "        vertical-align: top;\n",
       "    }\n",
       "\n",
       "    .dataframe thead th {\n",
       "        text-align: right;\n",
       "    }\n",
       "</style>\n",
       "<table border=\"1\" class=\"dataframe\">\n",
       "  <thead>\n",
       "    <tr style=\"text-align: right;\">\n",
       "      <th></th>\n",
       "      <th>participants</th>\n",
       "      <th>reduction</th>\n",
       "      <th>logprice</th>\n",
       "      <th>difftimes</th>\n",
       "    </tr>\n",
       "  </thead>\n",
       "  <tbody>\n",
       "    <tr>\n",
       "      <th>0</th>\n",
       "      <td>2.000000</td>\n",
       "      <td>10.061519</td>\n",
       "      <td>14.014219</td>\n",
       "      <td>1</td>\n",
       "    </tr>\n",
       "    <tr>\n",
       "      <th>1</th>\n",
       "      <td>2.183673</td>\n",
       "      <td>10.061519</td>\n",
       "      <td>14.014219</td>\n",
       "      <td>1</td>\n",
       "    </tr>\n",
       "    <tr>\n",
       "      <th>2</th>\n",
       "      <td>2.367347</td>\n",
       "      <td>10.061519</td>\n",
       "      <td>14.014219</td>\n",
       "      <td>1</td>\n",
       "    </tr>\n",
       "    <tr>\n",
       "      <th>3</th>\n",
       "      <td>2.551020</td>\n",
       "      <td>10.061519</td>\n",
       "      <td>14.014219</td>\n",
       "      <td>1</td>\n",
       "    </tr>\n",
       "    <tr>\n",
       "      <th>4</th>\n",
       "      <td>2.734694</td>\n",
       "      <td>10.061519</td>\n",
       "      <td>14.014219</td>\n",
       "      <td>1</td>\n",
       "    </tr>\n",
       "  </tbody>\n",
       "</table>\n",
       "</div>"
      ],
      "text/plain": [
       "   participants  reduction   logprice  difftimes\n",
       "0      2.000000  10.061519  14.014219          1\n",
       "1      2.183673  10.061519  14.014219          1\n",
       "2      2.367347  10.061519  14.014219          1\n",
       "3      2.551020  10.061519  14.014219          1\n",
       "4      2.734694  10.061519  14.014219          1"
      ]
     },
     "execution_count": 40,
     "metadata": {},
     "output_type": "execute_result"
    }
   ],
   "source": [
    "# data frame for students with difftime=1\n",
    "dfPSI1 = dfPRC.copy(deep=True)\n",
    "dfPSI1['reduction'] = np.mean(reduction)\n",
    "dfPSI1['logprice'] = np.mean(logprice)\n",
    "dfPSI1['difftimes'] = 1\n",
    "dfPSI1.head()"
   ]
  },
  {
   "cell_type": "code",
   "execution_count": 41,
   "id": "5d7e4209",
   "metadata": {},
   "outputs": [],
   "source": [
    "# predictions for students with PSI=1\n",
    "predcolludifftime1 = model1.predict(dfPSI1)"
   ]
  },
  {
   "cell_type": "code",
   "execution_count": 42,
   "id": "aeec75b1",
   "metadata": {},
   "outputs": [
    {
     "data": {
      "image/png": "[encoded data removed]",
      "text/plain": [
       "<Figure size 640x480 with 1 Axes>"
      ]
     },
     "metadata": {},
     "output_type": "display_data"
    }
   ],
   "source": [
    "# probability response curves\n",
    "plt.plot(dfPRC['participants'], predcolludifftime1, label=\"difftimes=1\")\n",
    "plt.plot(dfPRC['participants'], predcolludifftime0, label=\"difftimes=0\")\n",
    "plt.xlabel('participants'); plt.ylabel('probability')\n",
    "plt.grid(); plt.legend()\n",
    "plt.show()"
   ]
  },
  {
   "cell_type": "code",
   "execution_count": 43,
   "id": "e404bb4f",
   "metadata": {},
   "outputs": [],
   "source": [
    "dfcollu.set_index('auctionID', inplace=True)"
   ]
  },
  {
   "cell_type": "code",
   "execution_count": 44,
   "id": "97af87aa",
   "metadata": {
    "scrolled": true
   },
   "outputs": [],
   "source": [
    "dfcollupred = dfcollu.loc[[3,4,47,49]]"
   ]
  },
  {
   "cell_type": "code",
   "execution_count": 45,
   "id": "abaafc8c",
   "metadata": {},
   "outputs": [
    {
     "data": {
      "text/html": [
       "<div>\n",
       "<style scoped>\n",
       "    .dataframe tbody tr th:only-of-type {\n",
       "        vertical-align: middle;\n",
       "    }\n",
       "\n",
       "    .dataframe tbody tr th {\n",
       "        vertical-align: top;\n",
       "    }\n",
       "\n",
       "    .dataframe thead th {\n",
       "        text-align: right;\n",
       "    }\n",
       "</style>\n",
       "<table border=\"1\" class=\"dataframe\">\n",
       "  <thead>\n",
       "    <tr style=\"text-align: right;\">\n",
       "      <th></th>\n",
       "      <th>collusion</th>\n",
       "      <th>price</th>\n",
       "      <th>participants</th>\n",
       "      <th>reduction</th>\n",
       "      <th>difftimes</th>\n",
       "      <th>logprice</th>\n",
       "    </tr>\n",
       "    <tr>\n",
       "      <th>auctionID</th>\n",
       "      <th></th>\n",
       "      <th></th>\n",
       "      <th></th>\n",
       "      <th></th>\n",
       "      <th></th>\n",
       "      <th></th>\n",
       "    </tr>\n",
       "  </thead>\n",
       "  <tbody>\n",
       "    <tr>\n",
       "      <th>3</th>\n",
       "      <td>0</td>\n",
       "      <td>7309500.00</td>\n",
       "      <td>3</td>\n",
       "      <td>54.540008</td>\n",
       "      <td>1</td>\n",
       "      <td>15.804685</td>\n",
       "    </tr>\n",
       "    <tr>\n",
       "      <th>4</th>\n",
       "      <td>0</td>\n",
       "      <td>86557.00</td>\n",
       "      <td>4</td>\n",
       "      <td>10.500121</td>\n",
       "      <td>1</td>\n",
       "      <td>11.368558</td>\n",
       "    </tr>\n",
       "    <tr>\n",
       "      <th>47</th>\n",
       "      <td>1</td>\n",
       "      <td>665070.00</td>\n",
       "      <td>2</td>\n",
       "      <td>15.668366</td>\n",
       "      <td>0</td>\n",
       "      <td>13.407648</td>\n",
       "    </tr>\n",
       "    <tr>\n",
       "      <th>49</th>\n",
       "      <td>1</td>\n",
       "      <td>959198.45</td>\n",
       "      <td>2</td>\n",
       "      <td>0.999976</td>\n",
       "      <td>0</td>\n",
       "      <td>13.773853</td>\n",
       "    </tr>\n",
       "  </tbody>\n",
       "</table>\n",
       "</div>"
      ],
      "text/plain": [
       "           collusion       price  participants  reduction  difftimes  \\\n",
       "auctionID                                                              \n",
       "3                  0  7309500.00             3  54.540008          1   \n",
       "4                  0    86557.00             4  10.500121          1   \n",
       "47                 1   665070.00             2  15.668366          0   \n",
       "49                 1   959198.45             2   0.999976          0   \n",
       "\n",
       "            logprice  \n",
       "auctionID             \n",
       "3          15.804685  \n",
       "4          11.368558  \n",
       "47         13.407648  \n",
       "49         13.773853  "
      ]
     },
     "execution_count": 45,
     "metadata": {},
     "output_type": "execute_result"
    }
   ],
   "source": [
    "dfcollupred"
   ]
  },
  {
   "cell_type": "code",
   "execution_count": 46,
   "id": "4fe75a3a",
   "metadata": {},
   "outputs": [],
   "source": [
    "dfcollupred = dfcollupred.reset_index(drop=True)"
   ]
  },
  {
   "cell_type": "code",
   "execution_count": 47,
   "id": "82131db0",
   "metadata": {},
   "outputs": [],
   "source": [
    "# out-of-sample predictions -- for students 31 and 32 (careful with indexing!)\n",
    "predictions = model1.predict(dfcollupred)"
   ]
  },
  {
   "cell_type": "code",
   "execution_count": 74,
   "id": "acdb575d",
   "metadata": {},
   "outputs": [
    {
     "data": {
      "text/plain": [
       "0    0.1195839098\n",
       "1    0.0000000000\n",
       "2    0.9921189886\n",
       "3    0.9098727381\n",
       "dtype: object"
      ]
     },
     "execution_count": 74,
     "metadata": {},
     "output_type": "execute_result"
    }
   ],
   "source": [
    "predictions.apply(lambda x: \"{:.10f}\".format(x))"
   ]
  },
  {
   "cell_type": "code",
   "execution_count": 48,
   "id": "b7093220",
   "metadata": {},
   "outputs": [
    {
     "data": {
      "text/html": [
       "<div>\n",
       "<style scoped>\n",
       "    .dataframe tbody tr th:only-of-type {\n",
       "        vertical-align: middle;\n",
       "    }\n",
       "\n",
       "    .dataframe tbody tr th {\n",
       "        vertical-align: top;\n",
       "    }\n",
       "\n",
       "    .dataframe thead th {\n",
       "        text-align: right;\n",
       "    }\n",
       "</style>\n",
       "<table border=\"1\" class=\"dataframe\">\n",
       "  <thead>\n",
       "    <tr style=\"text-align: right;\">\n",
       "      <th></th>\n",
       "      <th>collusion</th>\n",
       "      <th>price</th>\n",
       "      <th>participants</th>\n",
       "      <th>reduction</th>\n",
       "      <th>difftimes</th>\n",
       "      <th>logprice</th>\n",
       "    </tr>\n",
       "  </thead>\n",
       "  <tbody>\n",
       "    <tr>\n",
       "      <th>count</th>\n",
       "      <td>215.000</td>\n",
       "      <td>2.150000e+02</td>\n",
       "      <td>215.000</td>\n",
       "      <td>215.000</td>\n",
       "      <td>215.00</td>\n",
       "      <td>215.000</td>\n",
       "    </tr>\n",
       "    <tr>\n",
       "      <th>mean</th>\n",
       "      <td>0.563</td>\n",
       "      <td>3.537565e+06</td>\n",
       "      <td>2.726</td>\n",
       "      <td>10.062</td>\n",
       "      <td>0.54</td>\n",
       "      <td>14.014</td>\n",
       "    </tr>\n",
       "    <tr>\n",
       "      <th>std</th>\n",
       "      <td>0.497</td>\n",
       "      <td>6.059638e+06</td>\n",
       "      <td>1.344</td>\n",
       "      <td>12.915</td>\n",
       "      <td>0.50</td>\n",
       "      <td>1.559</td>\n",
       "    </tr>\n",
       "    <tr>\n",
       "      <th>min</th>\n",
       "      <td>0.000</td>\n",
       "      <td>6.480000e+03</td>\n",
       "      <td>2.000</td>\n",
       "      <td>0.500</td>\n",
       "      <td>0.00</td>\n",
       "      <td>8.776</td>\n",
       "    </tr>\n",
       "    <tr>\n",
       "      <th>25%</th>\n",
       "      <td>0.000</td>\n",
       "      <td>4.362397e+05</td>\n",
       "      <td>2.000</td>\n",
       "      <td>1.000</td>\n",
       "      <td>0.00</td>\n",
       "      <td>12.986</td>\n",
       "    </tr>\n",
       "    <tr>\n",
       "      <th>50%</th>\n",
       "      <td>1.000</td>\n",
       "      <td>1.093394e+06</td>\n",
       "      <td>2.000</td>\n",
       "      <td>1.654</td>\n",
       "      <td>1.00</td>\n",
       "      <td>13.905</td>\n",
       "    </tr>\n",
       "    <tr>\n",
       "      <th>75%</th>\n",
       "      <td>1.000</td>\n",
       "      <td>3.525825e+06</td>\n",
       "      <td>3.000</td>\n",
       "      <td>18.750</td>\n",
       "      <td>1.00</td>\n",
       "      <td>15.076</td>\n",
       "    </tr>\n",
       "    <tr>\n",
       "      <th>max</th>\n",
       "      <td>1.000</td>\n",
       "      <td>4.348700e+07</td>\n",
       "      <td>11.000</td>\n",
       "      <td>63.568</td>\n",
       "      <td>1.00</td>\n",
       "      <td>17.588</td>\n",
       "    </tr>\n",
       "  </tbody>\n",
       "</table>\n",
       "</div>"
      ],
      "text/plain": [
       "       collusion         price  participants  reduction  difftimes  logprice\n",
       "count    215.000  2.150000e+02       215.000    215.000     215.00   215.000\n",
       "mean       0.563  3.537565e+06         2.726     10.062       0.54    14.014\n",
       "std        0.497  6.059638e+06         1.344     12.915       0.50     1.559\n",
       "min        0.000  6.480000e+03         2.000      0.500       0.00     8.776\n",
       "25%        0.000  4.362397e+05         2.000      1.000       0.00    12.986\n",
       "50%        1.000  1.093394e+06         2.000      1.654       1.00    13.905\n",
       "75%        1.000  3.525825e+06         3.000     18.750       1.00    15.076\n",
       "max        1.000  4.348700e+07        11.000     63.568       1.00    17.588"
      ]
     },
     "execution_count": 48,
     "metadata": {},
     "output_type": "execute_result"
    }
   ],
   "source": [
    "dfcollu.describe().round(3)"
   ]
  },
  {
   "cell_type": "code",
   "execution_count": null,
   "id": "4037dca7-def8-4d77-9715-989c919d89b5",
   "metadata": {},
   "outputs": [],
   "source": []
  }
 ],
 "metadata": {
  "hide_input": false,
  "kernelspec": {
   "display_name": "Python 3 (ipykernel)",
   "language": "python",
   "name": "python3"
  },
  "language_info": {
   "codemirror_mode": {
    "name": "ipython",
    "version": 3
   },
   "file_extension": ".py",
   "mimetype": "text/x-python",
   "name": "python",
   "nbconvert_exporter": "python",
   "pygments_lexer": "ipython3",
   "version": "3.10.8"
  },
  "toc": {
   "base_numbering": 1,
   "nav_menu": {},
   "number_sections": true,
   "sideBar": true,
   "skip_h1_title": false,
   "title_cell": "Table of Contents",
   "title_sidebar": "Contents",
   "toc_cell": false,
   "toc_position": {},
   "toc_section_display": true,
   "toc_window_display": false
  },
  "varInspector": {
   "cols": {
    "lenName": 16,
    "lenType": 16,
    "lenVar": 40
   },
   "kernels_config": {
    "python": {
     "delete_cmd_postfix": "",
     "delete_cmd_prefix": "del ",
     "library": "var_list.py",
     "varRefreshCmd": "print(var_dic_list())"
    },
    "r": {
     "delete_cmd_postfix": ") ",
     "delete_cmd_prefix": "rm(",
     "library": "var_list.r",
     "varRefreshCmd": "cat(var_dic_list()) "
    }
   },
   "types_to_exclude": [
    "module",
    "function",
    "builtin_function_or_method",
    "instance",
    "_Feature"
   ],
   "window_display": true
  }
 },
 "nbformat": 4,
 "nbformat_minor": 5
}
